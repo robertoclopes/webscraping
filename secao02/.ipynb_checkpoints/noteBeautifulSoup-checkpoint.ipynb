{
 "cells": [
  {
   "cell_type": "code",
   "execution_count": 21,
   "metadata": {},
   "outputs": [],
   "source": [
    "import requests\n",
    "from bs4 import BeautifulSoup"
   ]
  },
  {
   "cell_type": "code",
   "execution_count": 81,
   "metadata": {
    "scrolled": true
   },
   "outputs": [
    {
     "name": "stdout",
     "output_type": "stream",
     "text": [
      "<html>\n",
      " <head>\n",
      "  <title>\n",
      "   The Dormouse's story\n",
      "  </title>\n",
      " </head>\n",
      " <body>\n",
      "  <p class=\"title\">\n",
      "   <b>\n",
      "    The Dormouse's story\n",
      "   </b>\n",
      "  </p>\n",
      "  <p class=\"story\">\n",
      "   Once upon a time there were three little sisters; and their names were\n",
      "   <a class=\"sister\" href=\"http://example.com/elsie\" id=\"link1\">\n",
      "    Elsie\n",
      "   </a>\n",
      "   ,\n",
      "   <a class=\"sister\" href=\"http://example.com/lacie\" id=\"link2\">\n",
      "    Lacie\n",
      "   </a>\n",
      "   and\n",
      "   <a class=\"sister\" href=\"http://example.com/tillie\" id=\"link2\">\n",
      "    Tillie\n",
      "   </a>\n",
      "   ; and they lived at the bottom of a well.\n",
      "  </p>\n",
      "  <p class=\"story\">\n",
      "   ...\n",
      "  </p>\n",
      " </body>\n",
      "</html>\n"
     ]
    }
   ],
   "source": [
    "with open('arquivo.html','r') as f:\n",
    "    soup_string = BeautifulSoup(f.read(),'html.parser') #html.parser parser padrao do Beautiful Soup\n",
    "    print(soup_string.prettify())"
   ]
  },
  {
   "cell_type": "code",
   "execution_count": 86,
   "metadata": {},
   "outputs": [
    {
     "name": "stdout",
     "output_type": "stream",
     "text": [
      "http://example.com/elsie\n",
      "http://example.com/lacie\n",
      "http://example.com/tillie\n"
     ]
    }
   ],
   "source": [
    "for link in soup_string.find_all('a'):\n",
    "    print(link.get('href'))"
   ]
  },
  {
   "cell_type": "code",
   "execution_count": 205,
   "metadata": {},
   "outputs": [
    {
     "name": "stdout",
     "output_type": "stream",
     "text": [
      "<html><head>\n",
      "   <title>\n",
      "    The Dormouse's story\n",
      "   </title>\n",
      "  </head>\n",
      "  <body>\n",
      "   <p class=\"title\">\n",
      "    <b>\n",
      "     The Dormouse's story\n",
      "   </b>\n",
      "   </p>\n",
      "   <p class=\"story\">\n",
      "    Once upon a time there were three little sisters; and their names were\n",
      "    <a class=\"sister\" href=\"http://example.com/elsie\" id=\"link1\">\n",
      "     Elsie\n",
      "    </a>\n",
      "    ,\n",
      "    <a class=\"sister\" href=\"http://example.com/lacie\" id=\"link2\">\n",
      "     Lacie\n",
      "   </a>\n",
      "   and\n",
      "    <a class=\"sister\" href=\"http://example.com/tillie\" id=\"link2\">\n",
      "     Tillie\n",
      "\n",
      "    </a>\n",
      "\n",
      "   ; and they lived at the bottom of a well.\n",
      "   </p>\n",
      "   <p class=\"story\">\n",
      "    ...\n",
      "   </p>\n",
      "  \n",
      "</body></html>\n"
     ]
    }
   ],
   "source": [
    "with open('arquivo.html','r') as f:\n",
    "    soup_string = BeautifulSoup(f.read(),'html5lib')\n",
    "    print(soup_string)"
   ]
  },
  {
   "cell_type": "code",
   "execution_count": null,
   "metadata": {},
   "outputs": [],
   "source": [
    "help(BeautifulSoup)"
   ]
  },
  {
   "cell_type": "code",
   "execution_count": null,
   "metadata": {
    "scrolled": true
   },
   "outputs": [],
   "source": [
    "help(requests)"
   ]
  },
  {
   "cell_type": "code",
   "execution_count": 24,
   "metadata": {},
   "outputs": [],
   "source": [
    "http_proxy  = \"http://10.130.214.242:3128\"\n",
    "https_proxy = \"https://10.130.214.242:3128\"\n",
    "ftp_proxy   = \"ftp://10.130.214.242:3128\"\n",
    "\n",
    "proxyDict = { \n",
    "              \"http\"  : http_proxy,\n",
    "              \"https\" : https_proxy,\n",
    "              \"ftp\"   : ftp_proxy\n",
    "            }\n"
   ]
  },
  {
   "cell_type": "code",
   "execution_count": 25,
   "metadata": {},
   "outputs": [
    {
     "data": {
      "text/plain": [
       "{'http': 'http://10.130.214.242:3128',\n",
       " 'https': 'https://10.130.214.242:3128',\n",
       " 'ftp': 'ftp://10.130.214.242:3128'}"
      ]
     },
     "execution_count": 25,
     "metadata": {},
     "output_type": "execute_result"
    }
   ],
   "source": [
    "proxyDict"
   ]
  },
  {
   "cell_type": "code",
   "execution_count": 26,
   "metadata": {},
   "outputs": [],
   "source": [
    "r = requests.get('http://www.casaderepousocasanostra.com.br', proxies=proxyDict)"
   ]
  },
  {
   "cell_type": "code",
   "execution_count": 27,
   "metadata": {},
   "outputs": [
    {
     "data": {
      "text/plain": [
       "<Response [200]>"
      ]
     },
     "execution_count": 27,
     "metadata": {},
     "output_type": "execute_result"
    }
   ],
   "source": [
    "r"
   ]
  },
  {
   "cell_type": "code",
   "execution_count": 247,
   "metadata": {},
   "outputs": [
    {
     "name": "stdout",
     "output_type": "stream",
     "text": [
      "<!DOCTYPE html>\n",
      "<html lang=\"pt-br\"><head>\n",
      "        <meta charset=\"utf-8\"/>\n",
      "        <title>Casa de Repouso Casa Nostra</title>\n",
      "        <meta content=\"Página para mostrar a Casa De Repouso Casa Nostra em Regente Feijó\" name=\"description\"/> <!-- para motores de busca -->\n",
      "        <meta content=\"width=device-width, initial-scale=1.0\" name=\"viewport\"/> <!-- tela sera iniciada pela largura do dispositivo sem zoom (1x) -->\n",
      "        <link href=\"img/icon.png\" rel=\"shortcut icon\"/>\n",
      "        <link href=\"style.css\" rel=\"stylesheet\"/>\n",
      "        <link href=\"w3c.css\" rel=\"stylesheet\"/>\n",
      "        <link href=\"https://fonts.googleapis.com/css?family=Open+Sans:300,400,600,800\" rel=\"stylesheet\"/>\n",
      "        <link href=\"https://fonts.googleapis.com/css?family=Pacifico\" rel=\"stylesheet\"/>\n",
      "\t\t\n",
      "\t\t<!-- Global site tag (gtag.js) - Google Analytics -->\n",
      "\t\t<script async=\"\" src=\"https://www.googletagmanager.com/gtag/js?id=UA-117518154-1\"></script>\n",
      "\t\t<script>\n",
      "\t\t  window.dataLayer = window.dataLayer || [];\n",
      "\t\t  function gtag(){dataLayer.push(arguments);}\n",
      "\t\t  gtag('js', new Date());\n",
      "\n",
      "\t\t  gtag('config', 'UA-117518154-1');\n",
      "\t\t</script>\n",
      "\t\t\n",
      "\t\t<!-- Google Tag Manager -->\n",
      "\t\t<script>\n",
      "\t\t(function(w,d,s,l,i){\n",
      "\t\t\tw[l]=w[l]||[];w[l].push({'gtm.start':new Date().getTime(),event:'gtm.js'});var f=d.getElementsByTagName(s)[0],\n",
      "\t\t\tj=d.createElement(s),dl=l!='dataLayer'?'&l='+l:'';j.async=true;j.src='https://www.googletagmanager.com/gtm.js?id='+i+dl;f.parentNode.insertBefore(j,f);\n",
      "\t\t})(window,document,'script','dataLayer','GTM-TQ9JWBS');\n",
      "\t\t</script>\n",
      "\t\t<!-- End Google Tag Manager -->\n",
      "\t\t\n",
      "\t\t<!-- Facebook Pixel Code -->\n",
      "\t\t<script>\n",
      "\t\t\t!function(f,b,e,v,n,t,s)\n",
      "\t\t\t\t{if(f.fbq)return;n=f.fbq=function(){n.callMethod?\n",
      "\t\t\tn.callMethod.apply(n,arguments):n.queue.push(arguments)};\n",
      "\t\t\tif(!f._fbq)f._fbq=n;n.push=n;n.loaded=!0;n.version='2.0';\n",
      "\t\t\tn.queue=[];t=b.createElement(e);t.async=!0;\n",
      "\t\t\tt.src=v;s=b.getElementsByTagName(e)[0];\n",
      "\t\t\ts.parentNode.insertBefore(t,s)}(window, document,'script',\n",
      "\t\t\t'https://connect.facebook.net/en_US/fbevents.js');\n",
      "\t\t\tfbq('init', '384306872002436');\n",
      "\t\t\tfbq('track', 'PageView');\n",
      "\t\t</script>\n",
      "\t\t<noscript></noscript></head><body><img height=\"1\" src=\"https://www.facebook.com/tr?id=384306872002436&amp;ev=PageView&amp;noscript=1\" style=\"display:none\" width=\"1\"/>\n",
      "\t\t<!-- End Facebook Pixel Code -->\n",
      "    \n",
      "    \n",
      "\t\t<!-- Google Tag Manager (noscript) -->\n",
      "\t\t<noscript><iframe height=\"0\" src=\"https://www.googletagmanager.com/ns.html?id=GTM-TQ9JWBS\" style=\"display:none;visibility:hidden\" width=\"0\"></iframe></noscript>\n",
      "\t\t<!-- End Google Tag Manager (noscript) -->\n",
      "\t\t\n",
      "        <p class=\"j_back backtop\" title=\"Topo\"><img src=\"img/top.png\"/></p>\n",
      "        <header class=\"main_header container home\">    <!-- Cabeçalho -->\n",
      "            <div class=\"content\">\n",
      "                <!--title = titulo da imagem; alt = pessoas com deficiencia visual tambem podem ler;-->\n",
      "                <img alt=\"[Casa Nostra Casa de Repouso]\" class=\"main_logo\" src=\"img/_logo.png\" title=\"Casa Nostra\"/>\n",
      "                <h1 class=\"fontzero\">Casa de Repouso - Casa Nostra</h1>\n",
      "                <ul class=\"main_menu\">\n",
      "                    <li><a href=\"#home\" title=\"Casa Nostra\">Home</a></li>    <!-- #home link ancora redireciona ate a div com mesmo id -->\n",
      "                    <li><a href=\"#servicos\" title=\"Sobre a casa de repouso Casa Nostra\">Serviços</a></li>\n",
      "                    <li><a class=\"_special\" href=\"#grid_fotos\" title=\"Confira as Fotos da Nossa Casa\">Fotos da Casa</a></li>\n",
      "                    <li><a href=\"#localizacao\" title=\"Faça-nos uma visita\">Localização</a></li>\n",
      "                    <li><a href=\"#contato\" title=\"Envie sua mensagem para Casa de Repouso Casa Nostra\">Contato</a></li>\n",
      "                </ul>\n",
      "                <div class=\"clear\"></div>\n",
      "            </div>\n",
      "        </header>\n",
      "        <!--Fecha Cabecalho-->\n",
      "\n",
      "\n",
      "        <div class=\"border_bottom_destaque\">\n",
      "            <article class=\"container\" style=\"margin-bottom: 10px;\">\n",
      "                <!--<div class=\"content\">-->\n",
      "                <div class=\"slideshow-container\">\n",
      "\n",
      "                    <div class=\"mySlides fade\">\n",
      "                        <div class=\"numbertext\">1 / 3</div>\n",
      "                        <img src=\"src/10.png\" style=\"left: -9999px;right: -9999px;top: -9999px;bottom: -9999px;margin: auto;min-width: 100%;max-height: 400px;width: 100%;max-width: 100%;\"/>\n",
      "                    </div>\n",
      "\n",
      "                    <div class=\"mySlides fade\">\n",
      "                        <div class=\"numbertext\">2 / 3</div>\n",
      "                        <img src=\"src/37.jpg\" style=\"left: -9999px;right: -9999px;top: -9999px;bottom: -9999px;margin: auto;min-width: 100%;max-height: 400px;width: 100%;max-width: 100%;\"/>\n",
      "                    </div>\n",
      "\n",
      "                    <div class=\"mySlides fade\">\n",
      "                        <div class=\"numbertext\">3 / 3</div>\n",
      "                        <img src=\"src/banner02.jpg\" style=\"left: -9999px;right: -9999px;top: -9999px;bottom: -9999px;margin: auto;min-width: 100%;max-height: 400px;width: 100%;max-width: 100%;\"/>\n",
      "                    </div>\n",
      "\n",
      "                    <a class=\"prev\" onclick=\"plusSlides(-1)\">❮</a>\n",
      "                    <a class=\"next\" onclick=\"plusSlides(1)\">❯</a>\n",
      "\n",
      "                </div>\n",
      "                <br/>\n",
      "\n",
      "                <div style=\"text-align:center\">\n",
      "                    <span class=\"dot\" onclick=\"currentSlide(1)\"></span> \n",
      "                    <span class=\"dot\" onclick=\"currentSlide(2)\"></span> \n",
      "                    <span class=\"dot\" onclick=\"currentSlide(3)\"></span> \n",
      "                </div>\n",
      "                <div class=\"clear\"></div>\n",
      "                <!--</div>-->\n",
      "            </article>\n",
      "        </div>\n",
      "\n",
      "        <div>\n",
      "            <h1 style=\"text-align: center; color: #730B0E; font-size: 2.6em; font-weight: 600; font-family: 'Pacifico' !important;\">Amor, Aconchego e Acalento!</h1>\n",
      "            <hr class=\"hr\"/>\n",
      "            <blockquote style=\"text-align: center; padding: 0 15%; font-weight: 500;\">Nossa Casa traz para Presidente Prudente e região um novo conceito em cuidar com carinho e atenção daqueles que se dedicaram primeiramente a nós. Com uma equipe de profissionais qualificados e experientes, garantimos qualidade de vida ao idoso. Sempre atendendo com dedicação e amor!</blockquote>\n",
      "        </div>\n",
      "\n",
      "        <section class=\"container servicos\">   <!-- Servicos -->\n",
      "            <div class=\"content\">\n",
      "                <header class=\"big_title\">\n",
      "                    <h1>Serviços</h1>\n",
      "                    <p class=\"tagline\">Equipe profissional experiente e especializada para melhor atendê-lo</p>\n",
      "                </header>\n",
      "\n",
      "                <article class=\"curso_item\">\n",
      "                    <img alt=\"[Casa Nostra - Visitas diarias]\" src=\"img/01.png\" title=\"Hospedagem Diária/Eventual\"/>\n",
      "                    <h1>Hospedagem Diária/Eventual</h1>\n",
      "                </article>\n",
      "\n",
      "                <article class=\"curso_item\">\n",
      "                    <img alt=\"[Casa Nostra - Acompanhamento Médico]\" src=\"img/02.png\" title=\"Acompanhamento Médico\"/>\n",
      "                    <h1>Acompanhamento Médico</h1>\n",
      "                </article>\n",
      "\n",
      "                <article class=\"curso_item\">\n",
      "                    <img alt=\"[Casa Nostra - Enfermagem 24h]\" src=\"img/03.png\" title=\"Enfermagem 24h\"/>\n",
      "                    <h1>Enfermagem 24h</h1>\n",
      "                </article>\n",
      "\n",
      "                <article class=\"curso_item\">\n",
      "                    <img alt=\"[Casa Nostra - Psicólogo]\" src=\"img/04.png\" title=\"Psicólogo\"/>\n",
      "                    <h1>Psicólogo</h1>\n",
      "                </article>\n",
      "\n",
      "                <article class=\"curso_item\">\n",
      "                    <img alt=\"[Casa Nostra - Nutricionista]\" src=\"img/05.png\" title=\"Nutricionista\"/>\n",
      "                    <h1>Nutricionista</h1>\n",
      "                </article>\n",
      "\n",
      "                <article class=\"curso_item\">\n",
      "                    <img alt=\"[Casa Nostra - Recreação]\" src=\"img/06.png\" title=\"Recreação\"/>\n",
      "                    <h1>Recreação</h1>\n",
      "                </article>\n",
      "\n",
      "                <article class=\"curso_item\">\n",
      "                    <img alt=\"[Casa Nostra - Terapia Ocupacional]\" src=\"img/07.png\" title=\"Terapia Ocupacional\"/>\n",
      "                    <h1>Terapia Ocupacional</h1>\n",
      "                </article>\n",
      "\n",
      "                <article class=\"curso_item\">\n",
      "                    <img alt=\"[Casa Nostra - Fisioterapia]\" src=\"img/08.png\" title=\"Fisioterapia\"/>\n",
      "                    <h1>Fisioterapia</h1>\n",
      "                </article>\n",
      "            </div>\n",
      "\n",
      "            <section class=\"container grid_fotos\">   <!-- FOTOS DA CASA -->\n",
      "                <h1 class=\"fontzero\">Fotos da Casa</h1>\n",
      "                <div class=\"videoaula_videos\">\n",
      "                    <div class=\"container_article\">\n",
      "                        <img alt=\"[Casa Nostra - Sala de Jantar]\" class=\"image\" src=\"img/fotos/01.jpg\" title=\"Sala de Jantar\"/>\n",
      "                        <div class=\"overlay\">\n",
      "                            <div class=\"text\">Sala de Jantar</div>\n",
      "                        </div>\n",
      "                    </div>\n",
      "\n",
      "                    <div class=\"container_article\">\n",
      "                        <img alt=\"[Casa Nostra - Quarto Duplo]\" class=\"image\" src=\"img/fotos/02.jpg\" title=\"Quarto Duplo\"/>\n",
      "                        <div class=\"overlay\">\n",
      "                            <div class=\"text\">Quarto Duplo</div>\n",
      "                        </div>\n",
      "                    </div>\n",
      "\n",
      "                    <div class=\"container_article\">\n",
      "                        <img alt=\"[Casa Nostra - Jardim]\" class=\"image\" src=\"img/fotos/03.jpg\" title=\"Jardim\"/>\n",
      "                        <div class=\"overlay\">\n",
      "                            <div class=\"text\">Jardim</div>\n",
      "                        </div>\n",
      "                    </div>\n",
      "\n",
      "                    <div class=\"container_article\">\n",
      "                        <img alt=\"[Casa Nostra - Quarto Individual]\" class=\"image\" src=\"img/fotos/04.jpg\" title=\"Quarto Individual\"/>\n",
      "                        <div class=\"overlay\">\n",
      "                            <div class=\"text\">Quarto Individual</div>\n",
      "                        </div>\n",
      "                    </div>\n",
      "\n",
      "                    <div class=\"container_article\">\n",
      "                        <img alt=\"[Casa Nostra - Sala de Atendimento]\" class=\"image\" src=\"img/fotos/05.jpg\" title=\"Sala de Atendimento\"/>\n",
      "                        <div class=\"overlay\">\n",
      "                            <div class=\"text\">Sala de Atendimento</div>\n",
      "                        </div>\n",
      "                    </div>\n",
      "\n",
      "                    <div class=\"container_article\">\n",
      "                        <img alt=\"[Casa Nostra - Recepção]\" class=\"image\" src=\"img/fotos/06.jpg\" title=\"Recepção\"/>\n",
      "                        <div class=\"overlay\">\n",
      "                            <div class=\"text\">Recepção</div>\n",
      "                        </div>\n",
      "                    </div>\n",
      "\n",
      "                    <div class=\"container_article\">\n",
      "                        <img alt=\"[Casa Nostra - Sala de Estar]\" class=\"image\" src=\"img/fotos/07.jpg\" title=\"Sala de Estar\"/>\n",
      "                        <div class=\"overlay\">\n",
      "                            <div class=\"text\">Sala de Estar</div>\n",
      "                        </div>\n",
      "                    </div>\n",
      "\n",
      "                    <div class=\"container_article\">\n",
      "                        <img alt=\"[Casa Nostra - Cozinha]\" class=\"image\" src=\"img/fotos/08.jpg\" title=\"Cozinha\"/>\n",
      "                        <div class=\"overlay\">\n",
      "                            <div class=\"text\">Cozinha</div>\n",
      "                        </div>\n",
      "                    </div>\n",
      "                </div>\n",
      "                <div class=\"clear\"></div>\n",
      "            </section> \n",
      "\n",
      "            <footer class=\"container cursos_footer\">\n",
      "                <div class=\"content\">\n",
      "                    <h1>Localização</h1>\n",
      "                    <p style=\"margin-left: 10%; margin-right: 10%; font-size: 1.2em; color: #999999; font-weight: 600;\">A Casa de Repouso <strong>Casa Nostra</strong> esta localizada entre <strong>Presidente Prudente</strong> e <strong>Regente-Feijó</strong> ao lado da <strong>Alimentos Wilson</strong>.</p>\n",
      "                    <br/>\n",
      "                    <p style=\"font-weight: 600; color: #CC3336; text-align: center; padding: 0 15%;\">Rodovia Raposo Tavares - KM 557,5</p>\n",
      "                    <!--<a class=\"btn\" target=\"_blank\" title=\"Conheça o curso HTML5 do Jeito Certo!\" href=\"//www.upinside.com.br/oferta/html5-do-jeito-certo/\">Conhecer Agora!</a>-->\n",
      "                </div>\n",
      "            </footer>\n",
      "            <div class=\"clear\"></div>\n",
      "        </section>\n",
      "\n",
      "        <section class=\"container google-maps localizacao\">\n",
      "            <!-- <iframe src=\"https://www.google.com/maps/embed?pb=!1m18!1m12!1m3!1d3693.642671702175!2d-51.34893168546573!3d-22.21568201915908!2m3!1f0!2f0!3f0!3m2!1i1024!2i768!4f13.1!3m3!1m2!1s0x0%3A0x0!2zMjLCsDEyJzU2LjUiUyA1McKwMjAnNDguMyJX!5e0!3m2!1spt-BR!2sbr!4v1511111591167\" frameborder=\"0\" style=\"border:0\" allowfullscreen></iframe> -->\n",
      "\t\t\t<iframe allowfullscreen=\"\" frameborder=\"0\" src=\"https://www.google.com/maps/embed?pb=!1m14!1m8!1m3!1d7387.284712522699!2d-51.34675!3d-22.215694000000003!3m2!1i1024!2i768!4f13.1!3m3!1m2!1s0x0%3A0x755f2361db2e7aba!2sCasa+de+Repouso+Casa+Nostra!5e0!3m2!1spt-BR!2sbr!4v1523283815728\" style=\"border:0\"></iframe>\n",
      "        </section>\n",
      "\n",
      "        <article class=\"container contato\">\n",
      "            <div class=\"content\">\n",
      "                <header>\n",
      "                    <h1>Contato</h1>\n",
      "                    <h5 style=\"color: #bfbfbf; text-align: center; font-style: italic; margin-top: -15px;\">Solicite um Orçamento</h5>\n",
      "                    <br/>\n",
      "                    <p style=\"color: white; font-style: italic; font-size: 1.2em; font-weight: 600\">Telefone:<span style=\"color: #bfbfbf;\"> (18) 99751-9451 - (18) 99620-7005</span></p>\n",
      "                    <p style=\"color: white; font-style: italic; font-size: 1.2em; font-weight: 600\">Email:<span style=\"color: #bfbfbf;\"> contato@casaderepousocasanostra.com.br</span></p>\n",
      "                </header>\n",
      "\n",
      "\n",
      "                <form action=\"contato/envia_contato.php\" class=\"contato_form j_form_submit\" id=\"contatoForm\" method=\"post\" name=\"form\">\n",
      "                    <label class=\"medium\">\n",
      "                        <span>Nome:</span>\n",
      "                        <input id=\"nome\" name=\"nome\" placeholder=\"Informe seu nome\" required=\"\" title=\"Informe Seu Nome\" type=\"text\"/>\n",
      "                    </label>\n",
      "\n",
      "                    <label class=\"medium\">\n",
      "                        <span>Email:</span>\n",
      "                        <input name=\"email\" placeholder=\"Informe seu Email\" required=\"\" title=\"Informe Seu Email\" type=\"email\"/>\n",
      "                    </label>\n",
      "\n",
      "                    <label>\n",
      "                        <span>Mensagem:</span>\n",
      "                        <textarea name=\"mensagem\" placeholder=\"Deixe sua mensagem\" required=\"\" rows=\"3\" title=\"Deixe sua mensagem\"></textarea>\n",
      "                    </label>\n",
      "\n",
      "                    <img alt=\"[Aguarde, Enviando Contato!]\" class=\"form_load\" src=\"img/ajax-loader.gif\" title=\"Aguarde, Enviando Contato!\"/>\n",
      "                    <button type=\"submit\" value=\"Enviar\">Enviar Contato</button>\n",
      "                    <!--<input type=\"submit\" value=\"Enviar\" name=\"send_form\"/>-->\n",
      "                </form>\n",
      "                <div class=\"clear\"></div>\n",
      "            </div>\n",
      "        </article>\n",
      "\n",
      "        <!--Fecha Conteudo-->\n",
      "        <footer class=\"container main_footer\">\n",
      "            <div class=\"ftcontent\">\n",
      "                <nav>\n",
      "                    <h1 class=\"subtitle\">Casa de Repouso <strong style=\"font-family: Pacifico;\">Casa Nostra</strong>. Todos os direitos reservados.</h1>\n",
      "                    <a href=\"https://www.facebook.com/casaderepousocasanostra\" target=\"_blank\" title=\"Casa de Repouso Casa Nostra No Facebook\"><img align=\"top right\" alt=\"facebook_icon\" border=\"0\" height=\"auto\" src=\"img/fb.png\" width=\"auto\"/></a>\n",
      "                </nav>\n",
      "            </div>\n",
      "            <div class=\"clear\"></div>\n",
      "        </footer>   <!--Fecha Rodape-->\n",
      "\n",
      "<!--    <script src=\"js/jquery.js\"></script>-->\n",
      "        <script src=\"http://code.jquery.com/jquery-1.9.1.min.js\"></script>\n",
      "        <script src=\"js/script.js\"></script>\n",
      "\n",
      "        <!--        SLIDESHOW script-->\n",
      "        <script>\n",
      "                        var slideIndex = 1;\n",
      "                        showSlides(slideIndex);\n",
      "\n",
      "                        function plusSlides(n) {\n",
      "                            showSlides(slideIndex += n);\n",
      "                        }\n",
      "\n",
      "                        function currentSlide(n) {\n",
      "                            showSlides(slideIndex = n);\n",
      "                        }\n",
      "\n",
      "                        function showSlides(n) {\n",
      "                            var i;\n",
      "                            var slides = document.getElementsByClassName(\"mySlides\");\n",
      "                            var dots = document.getElementsByClassName(\"dot\");\n",
      "                            if (n > slides.length) {\n",
      "                                slideIndex = 1\n",
      "                            }\n",
      "                            if (n < 1) {\n",
      "                                slideIndex = slides.length\n",
      "                            }\n",
      "                            for (i = 0; i < slides.length; i++) {\n",
      "                                slides[i].style.display = \"none\";\n",
      "                            }\n",
      "                            for (i = 0; i < dots.length; i++) {\n",
      "                                dots[i].className = dots[i].className.replace(\" active\", \"\");\n",
      "                            }\n",
      "                            slides[slideIndex - 1].style.display = \"block\";\n",
      "                            dots[slideIndex - 1].className += \" active\";\n",
      "                        }\n",
      "        </script>\n",
      "    \n",
      "\n",
      "</body></html>\n"
     ]
    }
   ],
   "source": [
    "casanostra = BeautifulSoup(r.content,'html5lib')\n",
    "print(casanostra)"
   ]
  },
  {
   "cell_type": "code",
   "execution_count": 297,
   "metadata": {},
   "outputs": [
    {
     "data": {
      "text/plain": [
       "['j_back', 'backtop']"
      ]
     },
     "execution_count": 297,
     "metadata": {},
     "output_type": "execute_result"
    }
   ],
   "source": [
    "#casanostra.find_all('a')\n",
    "\n",
    "#casanostra.title\n",
    "#casanostra.title.name\n",
    "#casanostra.title.string\n",
    "#casanostra.title.parent.name\n",
    "\n",
    "#casanostra.p\n",
    "casanostra.p['class']\n",
    "#casanostra.p.attrs\n",
    "\n",
    "#casanostra.a\n",
    "#casanostra.a.get('href')"
   ]
  },
  {
   "cell_type": "code",
   "execution_count": 210,
   "metadata": {},
   "outputs": [
    {
     "data": {
      "text/plain": [
       "\"\\n     The Dormouse's story\\n   \""
      ]
     },
     "execution_count": 210,
     "metadata": {},
     "output_type": "execute_result"
    }
   ],
   "source": [
    "#soup.get_text() #retorna texto de todas as tags\n",
    "#soup.p.get_text()\n",
    "soup_string.p.b.string"
   ]
  },
  {
   "cell_type": "code",
   "execution_count": 214,
   "metadata": {},
   "outputs": [],
   "source": [
    "#from bs4 import BeautifulSoup\n",
    "\n",
    "with open('arquivo02.html','r') as arq:\n",
    "    site02 = BeautifulSoup(arq, 'lxml')"
   ]
  },
  {
   "cell_type": "code",
   "execution_count": 281,
   "metadata": {},
   "outputs": [
    {
     "name": "stdout",
     "output_type": "stream",
     "text": [
      "<td class=\"ce\">Tela</td>\n",
      "['ce']\n",
      "Tela\n",
      "ce\n"
     ]
    }
   ],
   "source": [
    "#site02.title.string\n",
    "#site02.head.title\n",
    "#site02.body\n",
    "\n",
    "#site02.body.hgroup\n",
    "#site02.find('a').get('href')\n",
    "\n",
    "#site02.tr\n",
    "#site02.td.attrs #exibe o atributo da classe\n",
    "#site02.tr.td\n",
    "print(site02.tr.td) #dicionario ['chave': valor]\n",
    "print(site02.td['class']) #chave\n",
    "print(site02.td.string) #valor\n",
    "print(site02.td['class'][0]) #chave"
   ]
  },
  {
   "cell_type": "code",
   "execution_count": 294,
   "metadata": {},
   "outputs": [],
   "source": [
    "#navegando nos filhos das tags\n",
    "\n",
    "a = site02.table.contents #imprime todo o conteudo dentro de 'tables'\n",
    "l = []\n",
    "for i in a:\n",
    "    if i == '\\n':\n",
    "        continue\n",
    "    l.append(i)"
   ]
  },
  {
   "cell_type": "code",
   "execution_count": 295,
   "metadata": {},
   "outputs": [
    {
     "data": {
      "text/plain": [
       "[<caption>Tabela Técnica do Google Glass <span>junho/2016</span></caption>,\n",
       " <tr><td class=\"ce\">Tela</td> <td class=\"cd\">Resolução equivalente a tela de 25\"</td></tr>,\n",
       " <tr><td class=\"ce\" rowspan=\"2\">Camera</td> <td class=\"cd\"> 5MP para fotos</td></tr>,\n",
       " <tr><td class=\"cd\">720p para vídeos</td></tr>,\n",
       " <tr><td class=\"ce\" rowspan=\"2\">Conectividade</td> <td class=\"cd\">Wi-Fi</td></tr>,\n",
       " <tr><td class=\"cd\">Bluetooth</td></tr>,\n",
       " <tr><td class=\"ce\">Memória Interna</td> <td class=\"cd\">12GB</td></tr>]"
      ]
     },
     "execution_count": 295,
     "metadata": {},
     "output_type": "execute_result"
    }
   ],
   "source": [
    "l"
   ]
  },
  {
   "cell_type": "code",
   "execution_count": 298,
   "metadata": {},
   "outputs": [
    {
     "data": {
      "text/plain": [
       "7"
      ]
     },
     "execution_count": 298,
     "metadata": {},
     "output_type": "execute_result"
    }
   ],
   "source": [
    "len(l)"
   ]
  },
  {
   "cell_type": "code",
   "execution_count": 301,
   "metadata": {},
   "outputs": [
    {
     "data": {
      "text/plain": [
       "<span>junho/2016</span>"
      ]
     },
     "execution_count": 301,
     "metadata": {},
     "output_type": "execute_result"
    }
   ],
   "source": [
    "#print(site02.table.contents[1].span)\n",
    "l[0].span"
   ]
  },
  {
   "cell_type": "code",
   "execution_count": 302,
   "metadata": {},
   "outputs": [
    {
     "data": {
      "text/plain": [
       "'junho/2016'"
      ]
     },
     "execution_count": 302,
     "metadata": {},
     "output_type": "execute_result"
    }
   ],
   "source": [
    "#l[0].span.get_text()\n",
    "l[0].span.string"
   ]
  },
  {
   "cell_type": "code",
   "execution_count": 315,
   "metadata": {},
   "outputs": [
    {
     "data": {
      "text/plain": [
       "<td class=\"ce\">Tela</td>"
      ]
     },
     "execution_count": 315,
     "metadata": {},
     "output_type": "execute_result"
    }
   ],
   "source": [
    "site02.table.contents[3].td"
   ]
  },
  {
   "cell_type": "code",
   "execution_count": 317,
   "metadata": {},
   "outputs": [
    {
     "name": "stdout",
     "output_type": "stream",
     "text": [
      "<tr><td class=\"ce\">Tela</td> <td class=\"cd\">Resolução equivalente a tela de 25\"</td></tr>\n",
      "<tr><td class=\"ce\" rowspan=\"2\">Camera</td> <td class=\"cd\"> 5MP para fotos</td></tr>\n",
      "<tr><td class=\"cd\">720p para vídeos</td></tr>\n",
      "<tr><td class=\"ce\" rowspan=\"2\">Conectividade</td> <td class=\"cd\">Wi-Fi</td></tr>\n",
      "<tr><td class=\"cd\">Bluetooth</td></tr>\n",
      "<tr><td class=\"ce\">Memória Interna</td> <td class=\"cd\">12GB</td></tr>\n"
     ]
    }
   ],
   "source": [
    "for tagFilho in site02.table.contents:\n",
    "    if tagFilho.name == 'tr':\n",
    "        print (tagFilho)"
   ]
  },
  {
   "cell_type": "code",
   "execution_count": 322,
   "metadata": {},
   "outputs": [
    {
     "data": {
      "text/plain": [
       "list_iterator"
      ]
     },
     "execution_count": 322,
     "metadata": {},
     "output_type": "execute_result"
    }
   ],
   "source": [
    "type(site02.children)"
   ]
  },
  {
   "cell_type": "code",
   "execution_count": 325,
   "metadata": {},
   "outputs": [
    {
     "name": "stdout",
     "output_type": "stream",
     "text": [
      "\n",
      "\n",
      "<p>Copyright © 2013 - by Thomas William <br/>\n",
      "<a href=\"https://www.facebook.com/TheLifelongTeacher/?fref=ts\" target=\"_blank\">Facebook</a> | \n",
      "\t<a href=\"https://www.udemy.com/user/marcoscastrodesouza/\" target=\"_blank\">Udemy</a></p>\n",
      "\n",
      "\n"
     ]
    }
   ],
   "source": [
    "for child in site02.footer.children:\n",
    "    print(child)"
   ]
  },
  {
   "cell_type": "code",
   "execution_count": 337,
   "metadata": {},
   "outputs": [
    {
     "name": "stdout",
     "output_type": "stream",
     "text": [
      "https://www.facebook.com/TheLifelongTeacher/?fref=ts\n",
      "https://www.udemy.com/user/marcoscastrodesouza/\n"
     ]
    }
   ],
   "source": [
    "listac=[]\n",
    "for child in site02.footer.p.children:\n",
    "    if child.name == 'a':\n",
    "        print(child.get('href'))\n",
    "        listac.append(child.get('href'))"
   ]
  },
  {
   "cell_type": "code",
   "execution_count": 335,
   "metadata": {},
   "outputs": [
    {
     "data": {
      "text/plain": [
       "['https://www.facebook.com/TheLifelongTeacher/?fref=ts',\n",
       " 'https://www.udemy.com/user/marcoscastrodesouza/']"
      ]
     },
     "execution_count": 335,
     "metadata": {},
     "output_type": "execute_result"
    }
   ],
   "source": [
    "listac"
   ]
  },
  {
   "cell_type": "code",
   "execution_count": 343,
   "metadata": {},
   "outputs": [
    {
     "name": "stdout",
     "output_type": "stream",
     "text": [
      "https://www.facebook.com/TheLifelongTeacher/?fref=ts\n",
      "https://www.udemy.com/user/marcoscastrodesouza/\n"
     ]
    }
   ],
   "source": [
    "for d in site02.footer.p.descendants:\n",
    "    if (d.name == 'a'):\n",
    "        print(d['href'])"
   ]
  },
  {
   "cell_type": "code",
   "execution_count": 350,
   "metadata": {},
   "outputs": [
    {
     "name": "stdout",
     "output_type": "stream",
     "text": [
      "O \n",
      "<span style=\"font-weight: bolder;\"> Lorem ipsum</span>\n",
      " Lorem ipsum\n",
      "  dolor sit amet, consectetur adipiscing elit. Vestibulum ullamcorper id ante vel mattis. Aenean eu egestas turpis. Maecenas id aliquet ante. Duis sagittis, eros a eleifend aliquam, lorem ipsum sodales felis, quis hendrerit massa urna non orci. Sed quis leo at eros tempus tempor. Fusce elementum massa at dui sollicitudin imperdiet. Morbi volutpat ligula in lectus ultricies, in euismod nisi sagittis. Cras a \n",
      "<em>suscipit libero</em>\n",
      "suscipit libero\n",
      ", at viverra enim. Phasellus eget dui justo. \n",
      "\n"
     ]
    }
   ],
   "source": [
    "for t in site02.p.descendants:\n",
    "    print (t)"
   ]
  },
  {
   "cell_type": "code",
   "execution_count": 351,
   "metadata": {},
   "outputs": [
    {
     "name": "stdout",
     "output_type": "stream",
     "text": [
      "O \n",
      "<span style=\"font-weight: bolder;\"> Lorem ipsum</span>\n",
      "  dolor sit amet, consectetur adipiscing elit. Vestibulum ullamcorper id ante vel mattis. Aenean eu egestas turpis. Maecenas id aliquet ante. Duis sagittis, eros a eleifend aliquam, lorem ipsum sodales felis, quis hendrerit massa urna non orci. Sed quis leo at eros tempus tempor. Fusce elementum massa at dui sollicitudin imperdiet. Morbi volutpat ligula in lectus ultricies, in euismod nisi sagittis. Cras a \n",
      "<em>suscipit libero</em>\n",
      ", at viverra enim. Phasellus eget dui justo. \n",
      "\n"
     ]
    }
   ],
   "source": [
    "for t in site02.p.children:\n",
    "    print (t)"
   ]
  },
  {
   "cell_type": "code",
   "execution_count": 352,
   "metadata": {},
   "outputs": [],
   "source": [
    "from bs4.element import NavigableString, Tag"
   ]
  },
  {
   "cell_type": "code",
   "execution_count": 355,
   "metadata": {},
   "outputs": [
    {
     "name": "stdout",
     "output_type": "stream",
     "text": [
      "html\n",
      "html\n",
      "\n",
      "\n",
      "head\n",
      "\n",
      "\n",
      "title\n",
      "Tudo Sobre Google Glass\n",
      "\n",
      "\n",
      "meta\n",
      "\n",
      "\n",
      "\n",
      "\n",
      "body\n",
      "\n",
      "\n",
      "div\n",
      "\n",
      "\n",
      "header\n",
      "\n",
      "\n",
      "hgroup\n",
      "\n",
      "\n",
      "h1\n",
      "Google Glass\n",
      "\n",
      "\n",
      "h2\n",
      "A revolução do Google está chegando\n",
      "\n",
      "\n",
      "\n",
      "\n",
      "\n",
      "\n",
      "section\n",
      "\n",
      "\n",
      "article\n",
      "\n",
      "\n",
      "header\n",
      "\n",
      "\n",
      "hgroup\n",
      "\n",
      "\n",
      "h3\n",
      "Tecnologia >         Inovações\n",
      "\n",
      "\n",
      "h1\n",
      "Saiba tudo sobre o Google Glass\n",
      "\n",
      "\n",
      "h2\n",
      "por Thomas William\n",
      "\n",
      "\n",
      "\n",
      "\n",
      "\n",
      "\n",
      "h2\n",
      "O que é ?\n",
      "\n",
      "\n",
      "p\n",
      "O \n",
      "span\n",
      " Lorem ipsum\n",
      "  dolor sit amet, consectetur adipiscing elit. Vestibulum ullamcorper id ante vel mattis. Aenean eu egestas turpis. Maecenas id aliquet ante. Duis sagittis, eros a eleifend aliquam, lorem ipsum sodales felis, quis hendrerit massa urna non orci. Sed quis leo at eros tempus tempor. Fusce elementum massa at dui sollicitudin imperdiet. Morbi volutpat ligula in lectus ultricies, in euismod nisi sagittis. Cras a \n",
      "em\n",
      "suscipit libero\n",
      ", at viverra enim. Phasellus eget dui justo. \n",
      "\n",
      "\n",
      "\n",
      "h2\n",
      "Data de lançamento\n",
      "\n",
      "\n",
      "p\n",
      "Donec aliquam urna ut dui placerat porta. Nunc porta, libero nec interdum placerat, neque lacus feugiat tellus, ut iaculis purus nisi eget massa. Sed convallis nisl non nisl posuere fermentum. Cras ac ex convallis, pulvinar nibh at, pharetra sapien. Maecenas fringilla lorem at ante malesuada, et maximus dui pulvinar.\n",
      "\n",
      "\n",
      "h2\n",
      "Especificações Técnicas\n",
      "\n",
      "\n",
      "table\n",
      "\n",
      "\n",
      "caption\n",
      "Tabela Técnica do Google Glass \n",
      "span\n",
      "junho/2016\n",
      "\n",
      "\n",
      "tr\n",
      "td\n",
      "Tela\n",
      " \n",
      "td\n",
      "Resolução equivalente a tela de 25\"\n",
      "\n",
      "\n",
      "tr\n",
      "td\n",
      "Camera\n",
      " \n",
      "td\n",
      " 5MP para fotos\n",
      "\n",
      "\n",
      "tr\n",
      "td\n",
      "720p para vídeos\n",
      "\n",
      "\n",
      "tr\n",
      "td\n",
      "Conectividade\n",
      " \n",
      "td\n",
      "Wi-Fi\n",
      "\n",
      "\n",
      "tr\n",
      "td\n",
      "Bluetooth\n",
      "\n",
      "\n",
      "tr\n",
      "td\n",
      "Memória Interna\n",
      " \n",
      "td\n",
      "12GB\n",
      "\n",
      "\n",
      "\n",
      "\n",
      "h2\n",
      "Como funciona\n",
      "\n",
      "\n",
      "p\n",
      "Praesent dapibus mattis orci ornare tempus. Sed laoreet accumsan tincidunt. Quisque fermentum dolor nunc. Nullam luctus ultricies sapien, ac facilisis felis commodo a. Duis quis nibh sapien. Sed aliquam felis vel ornare tincidunt.\n",
      "\n",
      "\n",
      "h2\n",
      "O que você pode fazer com o Google Glasses\n",
      "\n",
      "\n",
      "p\n",
      "Curabitur tortor mauris, interdum sed tristique at, tincidunt nec justo. Donec rhoncus felis vel tempus faucibus. Sed venenatis consequat ante, sed fermentum ipsum faucibus sit amet. Pellentesque habitant morbi tristique senectus et netus et malesuada fames ac turpis egestas.\n",
      "\n",
      "\n",
      "\n",
      "\n",
      "\n",
      "\n",
      "aside\n",
      "\n",
      "\n",
      "h1\n",
      "Outras Notícias\n",
      "\n",
      "\n",
      "h2\n",
      "Vídeo mais recente\n",
      "\n",
      "\n",
      "video\n",
      "\n",
      "\n",
      "source\n",
      "\n",
      "\n",
      "source\n",
      "\n",
      "\n",
      "source\n",
      "\n",
      "\t\tDesculpe, mas não foi possível carregar o vídeo\n",
      "\t\n",
      "\n",
      "\n",
      "h1\n",
      "Novidades\n",
      "\n",
      "\n",
      "p\n",
      "Phasellus fermentum non diam vitae ultricies. Aliquam fermentum justo eget venenatis luctus. Lorem ipsum dolor sit amet, consectetur adipiscing elit. Nullam orci lectus, molestie non elit nec, tincidunt suscipit nisi. Morbi libero mauris, sodales eu massa eget. \n",
      "\n",
      "\tPellentesque habitant morbi tristique senectus et netus et malesuada fames ac turpis egestas. Praesent id fringilla arcu. Cras nec massa ex. Integer maximus facilisis congue. Suspendisse potenti. Nunc molestie arcu a elementum ultricies.\n",
      "\n",
      "\n",
      "\n",
      "\n",
      "footer\n",
      "\n",
      "\n",
      "p\n",
      "Copyright © 2013 - by Thomas William \n",
      "br\n",
      "\n",
      "\n",
      "a\n",
      "Facebook\n",
      " | \n",
      "\t\n",
      "a\n",
      "Udemy\n",
      "\n",
      "\n",
      "\n",
      "\n",
      "\n",
      "\n",
      "\n",
      "\n",
      "\n",
      "\n"
     ]
    }
   ],
   "source": [
    "for tag in site02.descendants:\n",
    "    if isinstance(tag, NavigableString):\n",
    "       print(tag)\n",
    "    else:\n",
    "        print(tag.name)"
   ]
  },
  {
   "cell_type": "code",
   "execution_count": 356,
   "metadata": {},
   "outputs": [
    {
     "name": "stdout",
     "output_type": "stream",
     "text": [
      "<html lang=\"pt-br\">\n",
      "<head>\n",
      "<title>Tudo Sobre Google Glass</title>\n",
      "<meta content=\"text/html; charset=utf-8\" http-equiv=\"Content-Type\"/>\n",
      "</head>\n",
      "<body>\n",
      "<div id=\"interface\">\n",
      "<header id=\"cabecalho\">\n",
      "<hgroup>\n",
      "<h1>Google Glass</h1>\n",
      "<h2>A revolução do Google está chegando</h2>\n",
      "</hgroup>\n",
      "</header>\n",
      "<section id=\"corpo\">\n",
      "<article id=\"noticia-principal\">\n",
      "<header id=\"cabecalho-artigo\">\n",
      "<hgroup>\n",
      "<h3>Tecnologia &gt;         Inovações</h3>\n",
      "<h1>Saiba tudo sobre o Google Glass</h1>\n",
      "<h2>por Thomas William</h2>\n",
      "</hgroup>\n",
      "</header>\n",
      "<h2>O que é ?</h2>\n",
      "<p>O <span style=\"font-weight: bolder;\"> Lorem ipsum</span>  dolor sit amet, consectetur adipiscing elit. Vestibulum ullamcorper id ante vel mattis. Aenean eu egestas turpis. Maecenas id aliquet ante. Duis sagittis, eros a eleifend aliquam, lorem ipsum sodales felis, quis hendrerit massa urna non orci. Sed quis leo at eros tempus tempor. Fusce elementum massa at dui sollicitudin imperdiet. Morbi volutpat ligula in lectus ultricies, in euismod nisi sagittis. Cras a <em>suscipit libero</em>, at viverra enim. Phasellus eget dui justo. \n",
      "</p>\n",
      "<h2>Data de lançamento</h2>\n",
      "<p>Donec aliquam urna ut dui placerat porta. Nunc porta, libero nec interdum placerat, neque lacus feugiat tellus, ut iaculis purus nisi eget massa. Sed convallis nisl non nisl posuere fermentum. Cras ac ex convallis, pulvinar nibh at, pharetra sapien. Maecenas fringilla lorem at ante malesuada, et maximus dui pulvinar.</p>\n",
      "<h2>Especificações Técnicas</h2>\n",
      "<table id=\"tabelaspec\">\n",
      "<caption>Tabela Técnica do Google Glass <span>junho/2016</span></caption>\n",
      "<tr><td class=\"ce\">Tela</td> <td class=\"cd\">Resolução equivalente a tela de 25\"</td></tr>\n",
      "<tr><td class=\"ce\" rowspan=\"2\">Camera</td> <td class=\"cd\"> 5MP para fotos</td></tr>\n",
      "<tr><td class=\"cd\">720p para vídeos</td></tr>\n",
      "<tr><td class=\"ce\" rowspan=\"2\">Conectividade</td> <td class=\"cd\">Wi-Fi</td></tr>\n",
      "<tr><td class=\"cd\">Bluetooth</td></tr>\n",
      "<tr><td class=\"ce\">Memória Interna</td> <td class=\"cd\">12GB</td></tr>\n",
      "</table>\n",
      "<h2>Como funciona</h2>\n",
      "<p>Praesent dapibus mattis orci ornare tempus. Sed laoreet accumsan tincidunt. Quisque fermentum dolor nunc. Nullam luctus ultricies sapien, ac facilisis felis commodo a. Duis quis nibh sapien. Sed aliquam felis vel ornare tincidunt.</p>\n",
      "<h2>O que você pode fazer com o Google Glasses</h2>\n",
      "<p>Curabitur tortor mauris, interdum sed tristique at, tincidunt nec justo. Donec rhoncus felis vel tempus faucibus. Sed venenatis consequat ante, sed fermentum ipsum faucibus sit amet. Pellentesque habitant morbi tristique senectus et netus et malesuada fames ac turpis egestas.</p>\n",
      "</article>\n",
      "</section>\n",
      "<aside id=\"lateral\">\n",
      "<h1>Outras Notícias</h1>\n",
      "<h2>Vídeo mais recente</h2>\n",
      "<video controls=\"controls\" id=\"filme\" poster=\"_imagens/video-mini02.jpg\">\n",
      "<source src=\"_media/how-it-feels.mp4\" type=\"video/mp4\"/>\n",
      "<source src=\"_media/how-it-feels.webm\" type=\"video/webm\"/>\n",
      "<source src=\"_media/how-it-feels.ogv\" type=\"video/ogg\"/>\n",
      "\t\tDesculpe, mas não foi possível carregar o vídeo\n",
      "\t</video>\n",
      "<h1>Novidades</h1>\n",
      "<p>Phasellus fermentum non diam vitae ultricies. Aliquam fermentum justo eget venenatis luctus. Lorem ipsum dolor sit amet, consectetur adipiscing elit. Nullam orci lectus, molestie non elit nec, tincidunt suscipit nisi. Morbi libero mauris, sodales eu massa eget. \n",
      "\n",
      "\tPellentesque habitant morbi tristique senectus et netus et malesuada fames ac turpis egestas. Praesent id fringilla arcu. Cras nec massa ex. Integer maximus facilisis congue. Suspendisse potenti. Nunc molestie arcu a elementum ultricies.</p>\n",
      "</aside>\n",
      "<footer id=\"rodape\">\n",
      "<p>Copyright © 2013 - by Thomas William <br/>\n",
      "<a href=\"https://www.facebook.com/TheLifelongTeacher/?fref=ts\" target=\"_blank\">Facebook</a> | \n",
      "\t<a href=\"https://www.udemy.com/user/marcoscastrodesouza/\" target=\"_blank\">Udemy</a></p>\n",
      "</footer>\n",
      "</div>\n",
      "</body>\n",
      "</html>\n",
      "<head>\n",
      "<title>Tudo Sobre Google Glass</title>\n",
      "<meta content=\"text/html; charset=utf-8\" http-equiv=\"Content-Type\"/>\n",
      "</head>\n",
      "<title>Tudo Sobre Google Glass</title>\n",
      "<meta content=\"text/html; charset=utf-8\" http-equiv=\"Content-Type\"/>\n",
      "<body>\n",
      "<div id=\"interface\">\n",
      "<header id=\"cabecalho\">\n",
      "<hgroup>\n",
      "<h1>Google Glass</h1>\n",
      "<h2>A revolução do Google está chegando</h2>\n",
      "</hgroup>\n",
      "</header>\n",
      "<section id=\"corpo\">\n",
      "<article id=\"noticia-principal\">\n",
      "<header id=\"cabecalho-artigo\">\n",
      "<hgroup>\n",
      "<h3>Tecnologia &gt;         Inovações</h3>\n",
      "<h1>Saiba tudo sobre o Google Glass</h1>\n",
      "<h2>por Thomas William</h2>\n",
      "</hgroup>\n",
      "</header>\n",
      "<h2>O que é ?</h2>\n",
      "<p>O <span style=\"font-weight: bolder;\"> Lorem ipsum</span>  dolor sit amet, consectetur adipiscing elit. Vestibulum ullamcorper id ante vel mattis. Aenean eu egestas turpis. Maecenas id aliquet ante. Duis sagittis, eros a eleifend aliquam, lorem ipsum sodales felis, quis hendrerit massa urna non orci. Sed quis leo at eros tempus tempor. Fusce elementum massa at dui sollicitudin imperdiet. Morbi volutpat ligula in lectus ultricies, in euismod nisi sagittis. Cras a <em>suscipit libero</em>, at viverra enim. Phasellus eget dui justo. \n",
      "</p>\n",
      "<h2>Data de lançamento</h2>\n",
      "<p>Donec aliquam urna ut dui placerat porta. Nunc porta, libero nec interdum placerat, neque lacus feugiat tellus, ut iaculis purus nisi eget massa. Sed convallis nisl non nisl posuere fermentum. Cras ac ex convallis, pulvinar nibh at, pharetra sapien. Maecenas fringilla lorem at ante malesuada, et maximus dui pulvinar.</p>\n",
      "<h2>Especificações Técnicas</h2>\n",
      "<table id=\"tabelaspec\">\n",
      "<caption>Tabela Técnica do Google Glass <span>junho/2016</span></caption>\n",
      "<tr><td class=\"ce\">Tela</td> <td class=\"cd\">Resolução equivalente a tela de 25\"</td></tr>\n",
      "<tr><td class=\"ce\" rowspan=\"2\">Camera</td> <td class=\"cd\"> 5MP para fotos</td></tr>\n",
      "<tr><td class=\"cd\">720p para vídeos</td></tr>\n",
      "<tr><td class=\"ce\" rowspan=\"2\">Conectividade</td> <td class=\"cd\">Wi-Fi</td></tr>\n",
      "<tr><td class=\"cd\">Bluetooth</td></tr>\n",
      "<tr><td class=\"ce\">Memória Interna</td> <td class=\"cd\">12GB</td></tr>\n",
      "</table>\n",
      "<h2>Como funciona</h2>\n",
      "<p>Praesent dapibus mattis orci ornare tempus. Sed laoreet accumsan tincidunt. Quisque fermentum dolor nunc. Nullam luctus ultricies sapien, ac facilisis felis commodo a. Duis quis nibh sapien. Sed aliquam felis vel ornare tincidunt.</p>\n",
      "<h2>O que você pode fazer com o Google Glasses</h2>\n",
      "<p>Curabitur tortor mauris, interdum sed tristique at, tincidunt nec justo. Donec rhoncus felis vel tempus faucibus. Sed venenatis consequat ante, sed fermentum ipsum faucibus sit amet. Pellentesque habitant morbi tristique senectus et netus et malesuada fames ac turpis egestas.</p>\n",
      "</article>\n",
      "</section>\n",
      "<aside id=\"lateral\">\n",
      "<h1>Outras Notícias</h1>\n",
      "<h2>Vídeo mais recente</h2>\n",
      "<video controls=\"controls\" id=\"filme\" poster=\"_imagens/video-mini02.jpg\">\n",
      "<source src=\"_media/how-it-feels.mp4\" type=\"video/mp4\"/>\n",
      "<source src=\"_media/how-it-feels.webm\" type=\"video/webm\"/>\n",
      "<source src=\"_media/how-it-feels.ogv\" type=\"video/ogg\"/>\n",
      "\t\tDesculpe, mas não foi possível carregar o vídeo\n",
      "\t</video>\n",
      "<h1>Novidades</h1>\n",
      "<p>Phasellus fermentum non diam vitae ultricies. Aliquam fermentum justo eget venenatis luctus. Lorem ipsum dolor sit amet, consectetur adipiscing elit. Nullam orci lectus, molestie non elit nec, tincidunt suscipit nisi. Morbi libero mauris, sodales eu massa eget. \n",
      "\n",
      "\tPellentesque habitant morbi tristique senectus et netus et malesuada fames ac turpis egestas. Praesent id fringilla arcu. Cras nec massa ex. Integer maximus facilisis congue. Suspendisse potenti. Nunc molestie arcu a elementum ultricies.</p>\n",
      "</aside>\n",
      "<footer id=\"rodape\">\n",
      "<p>Copyright © 2013 - by Thomas William <br/>\n",
      "<a href=\"https://www.facebook.com/TheLifelongTeacher/?fref=ts\" target=\"_blank\">Facebook</a> | \n",
      "\t<a href=\"https://www.udemy.com/user/marcoscastrodesouza/\" target=\"_blank\">Udemy</a></p>\n",
      "</footer>\n",
      "</div>\n",
      "</body>\n",
      "<div id=\"interface\">\n",
      "<header id=\"cabecalho\">\n",
      "<hgroup>\n",
      "<h1>Google Glass</h1>\n",
      "<h2>A revolução do Google está chegando</h2>\n",
      "</hgroup>\n",
      "</header>\n",
      "<section id=\"corpo\">\n",
      "<article id=\"noticia-principal\">\n",
      "<header id=\"cabecalho-artigo\">\n",
      "<hgroup>\n",
      "<h3>Tecnologia &gt;         Inovações</h3>\n",
      "<h1>Saiba tudo sobre o Google Glass</h1>\n",
      "<h2>por Thomas William</h2>\n",
      "</hgroup>\n",
      "</header>\n",
      "<h2>O que é ?</h2>\n",
      "<p>O <span style=\"font-weight: bolder;\"> Lorem ipsum</span>  dolor sit amet, consectetur adipiscing elit. Vestibulum ullamcorper id ante vel mattis. Aenean eu egestas turpis. Maecenas id aliquet ante. Duis sagittis, eros a eleifend aliquam, lorem ipsum sodales felis, quis hendrerit massa urna non orci. Sed quis leo at eros tempus tempor. Fusce elementum massa at dui sollicitudin imperdiet. Morbi volutpat ligula in lectus ultricies, in euismod nisi sagittis. Cras a <em>suscipit libero</em>, at viverra enim. Phasellus eget dui justo. \n",
      "</p>\n",
      "<h2>Data de lançamento</h2>\n",
      "<p>Donec aliquam urna ut dui placerat porta. Nunc porta, libero nec interdum placerat, neque lacus feugiat tellus, ut iaculis purus nisi eget massa. Sed convallis nisl non nisl posuere fermentum. Cras ac ex convallis, pulvinar nibh at, pharetra sapien. Maecenas fringilla lorem at ante malesuada, et maximus dui pulvinar.</p>\n",
      "<h2>Especificações Técnicas</h2>\n",
      "<table id=\"tabelaspec\">\n",
      "<caption>Tabela Técnica do Google Glass <span>junho/2016</span></caption>\n",
      "<tr><td class=\"ce\">Tela</td> <td class=\"cd\">Resolução equivalente a tela de 25\"</td></tr>\n",
      "<tr><td class=\"ce\" rowspan=\"2\">Camera</td> <td class=\"cd\"> 5MP para fotos</td></tr>\n",
      "<tr><td class=\"cd\">720p para vídeos</td></tr>\n",
      "<tr><td class=\"ce\" rowspan=\"2\">Conectividade</td> <td class=\"cd\">Wi-Fi</td></tr>\n",
      "<tr><td class=\"cd\">Bluetooth</td></tr>\n",
      "<tr><td class=\"ce\">Memória Interna</td> <td class=\"cd\">12GB</td></tr>\n",
      "</table>\n",
      "<h2>Como funciona</h2>\n",
      "<p>Praesent dapibus mattis orci ornare tempus. Sed laoreet accumsan tincidunt. Quisque fermentum dolor nunc. Nullam luctus ultricies sapien, ac facilisis felis commodo a. Duis quis nibh sapien. Sed aliquam felis vel ornare tincidunt.</p>\n",
      "<h2>O que você pode fazer com o Google Glasses</h2>\n",
      "<p>Curabitur tortor mauris, interdum sed tristique at, tincidunt nec justo. Donec rhoncus felis vel tempus faucibus. Sed venenatis consequat ante, sed fermentum ipsum faucibus sit amet. Pellentesque habitant morbi tristique senectus et netus et malesuada fames ac turpis egestas.</p>\n",
      "</article>\n",
      "</section>\n",
      "<aside id=\"lateral\">\n",
      "<h1>Outras Notícias</h1>\n",
      "<h2>Vídeo mais recente</h2>\n",
      "<video controls=\"controls\" id=\"filme\" poster=\"_imagens/video-mini02.jpg\">\n",
      "<source src=\"_media/how-it-feels.mp4\" type=\"video/mp4\"/>\n",
      "<source src=\"_media/how-it-feels.webm\" type=\"video/webm\"/>\n",
      "<source src=\"_media/how-it-feels.ogv\" type=\"video/ogg\"/>\n",
      "\t\tDesculpe, mas não foi possível carregar o vídeo\n",
      "\t</video>\n",
      "<h1>Novidades</h1>\n",
      "<p>Phasellus fermentum non diam vitae ultricies. Aliquam fermentum justo eget venenatis luctus. Lorem ipsum dolor sit amet, consectetur adipiscing elit. Nullam orci lectus, molestie non elit nec, tincidunt suscipit nisi. Morbi libero mauris, sodales eu massa eget. \n",
      "\n",
      "\tPellentesque habitant morbi tristique senectus et netus et malesuada fames ac turpis egestas. Praesent id fringilla arcu. Cras nec massa ex. Integer maximus facilisis congue. Suspendisse potenti. Nunc molestie arcu a elementum ultricies.</p>\n",
      "</aside>\n",
      "<footer id=\"rodape\">\n",
      "<p>Copyright © 2013 - by Thomas William <br/>\n",
      "<a href=\"https://www.facebook.com/TheLifelongTeacher/?fref=ts\" target=\"_blank\">Facebook</a> | \n",
      "\t<a href=\"https://www.udemy.com/user/marcoscastrodesouza/\" target=\"_blank\">Udemy</a></p>\n",
      "</footer>\n",
      "</div>\n",
      "<header id=\"cabecalho\">\n",
      "<hgroup>\n",
      "<h1>Google Glass</h1>\n",
      "<h2>A revolução do Google está chegando</h2>\n",
      "</hgroup>\n",
      "</header>\n",
      "<hgroup>\n",
      "<h1>Google Glass</h1>\n",
      "<h2>A revolução do Google está chegando</h2>\n",
      "</hgroup>\n",
      "<h1>Google Glass</h1>\n",
      "<h2>A revolução do Google está chegando</h2>\n",
      "<section id=\"corpo\">\n",
      "<article id=\"noticia-principal\">\n",
      "<header id=\"cabecalho-artigo\">\n",
      "<hgroup>\n",
      "<h3>Tecnologia &gt;         Inovações</h3>\n",
      "<h1>Saiba tudo sobre o Google Glass</h1>\n",
      "<h2>por Thomas William</h2>\n",
      "</hgroup>\n",
      "</header>\n",
      "<h2>O que é ?</h2>\n",
      "<p>O <span style=\"font-weight: bolder;\"> Lorem ipsum</span>  dolor sit amet, consectetur adipiscing elit. Vestibulum ullamcorper id ante vel mattis. Aenean eu egestas turpis. Maecenas id aliquet ante. Duis sagittis, eros a eleifend aliquam, lorem ipsum sodales felis, quis hendrerit massa urna non orci. Sed quis leo at eros tempus tempor. Fusce elementum massa at dui sollicitudin imperdiet. Morbi volutpat ligula in lectus ultricies, in euismod nisi sagittis. Cras a <em>suscipit libero</em>, at viverra enim. Phasellus eget dui justo. \n",
      "</p>\n",
      "<h2>Data de lançamento</h2>\n",
      "<p>Donec aliquam urna ut dui placerat porta. Nunc porta, libero nec interdum placerat, neque lacus feugiat tellus, ut iaculis purus nisi eget massa. Sed convallis nisl non nisl posuere fermentum. Cras ac ex convallis, pulvinar nibh at, pharetra sapien. Maecenas fringilla lorem at ante malesuada, et maximus dui pulvinar.</p>\n",
      "<h2>Especificações Técnicas</h2>\n",
      "<table id=\"tabelaspec\">\n",
      "<caption>Tabela Técnica do Google Glass <span>junho/2016</span></caption>\n",
      "<tr><td class=\"ce\">Tela</td> <td class=\"cd\">Resolução equivalente a tela de 25\"</td></tr>\n",
      "<tr><td class=\"ce\" rowspan=\"2\">Camera</td> <td class=\"cd\"> 5MP para fotos</td></tr>\n",
      "<tr><td class=\"cd\">720p para vídeos</td></tr>\n",
      "<tr><td class=\"ce\" rowspan=\"2\">Conectividade</td> <td class=\"cd\">Wi-Fi</td></tr>\n",
      "<tr><td class=\"cd\">Bluetooth</td></tr>\n",
      "<tr><td class=\"ce\">Memória Interna</td> <td class=\"cd\">12GB</td></tr>\n",
      "</table>\n",
      "<h2>Como funciona</h2>\n",
      "<p>Praesent dapibus mattis orci ornare tempus. Sed laoreet accumsan tincidunt. Quisque fermentum dolor nunc. Nullam luctus ultricies sapien, ac facilisis felis commodo a. Duis quis nibh sapien. Sed aliquam felis vel ornare tincidunt.</p>\n",
      "<h2>O que você pode fazer com o Google Glasses</h2>\n",
      "<p>Curabitur tortor mauris, interdum sed tristique at, tincidunt nec justo. Donec rhoncus felis vel tempus faucibus. Sed venenatis consequat ante, sed fermentum ipsum faucibus sit amet. Pellentesque habitant morbi tristique senectus et netus et malesuada fames ac turpis egestas.</p>\n",
      "</article>\n",
      "</section>\n",
      "<article id=\"noticia-principal\">\n",
      "<header id=\"cabecalho-artigo\">\n",
      "<hgroup>\n",
      "<h3>Tecnologia &gt;         Inovações</h3>\n",
      "<h1>Saiba tudo sobre o Google Glass</h1>\n",
      "<h2>por Thomas William</h2>\n",
      "</hgroup>\n",
      "</header>\n",
      "<h2>O que é ?</h2>\n",
      "<p>O <span style=\"font-weight: bolder;\"> Lorem ipsum</span>  dolor sit amet, consectetur adipiscing elit. Vestibulum ullamcorper id ante vel mattis. Aenean eu egestas turpis. Maecenas id aliquet ante. Duis sagittis, eros a eleifend aliquam, lorem ipsum sodales felis, quis hendrerit massa urna non orci. Sed quis leo at eros tempus tempor. Fusce elementum massa at dui sollicitudin imperdiet. Morbi volutpat ligula in lectus ultricies, in euismod nisi sagittis. Cras a <em>suscipit libero</em>, at viverra enim. Phasellus eget dui justo. \n",
      "</p>\n",
      "<h2>Data de lançamento</h2>\n",
      "<p>Donec aliquam urna ut dui placerat porta. Nunc porta, libero nec interdum placerat, neque lacus feugiat tellus, ut iaculis purus nisi eget massa. Sed convallis nisl non nisl posuere fermentum. Cras ac ex convallis, pulvinar nibh at, pharetra sapien. Maecenas fringilla lorem at ante malesuada, et maximus dui pulvinar.</p>\n",
      "<h2>Especificações Técnicas</h2>\n",
      "<table id=\"tabelaspec\">\n",
      "<caption>Tabela Técnica do Google Glass <span>junho/2016</span></caption>\n",
      "<tr><td class=\"ce\">Tela</td> <td class=\"cd\">Resolução equivalente a tela de 25\"</td></tr>\n",
      "<tr><td class=\"ce\" rowspan=\"2\">Camera</td> <td class=\"cd\"> 5MP para fotos</td></tr>\n",
      "<tr><td class=\"cd\">720p para vídeos</td></tr>\n",
      "<tr><td class=\"ce\" rowspan=\"2\">Conectividade</td> <td class=\"cd\">Wi-Fi</td></tr>\n",
      "<tr><td class=\"cd\">Bluetooth</td></tr>\n",
      "<tr><td class=\"ce\">Memória Interna</td> <td class=\"cd\">12GB</td></tr>\n",
      "</table>\n",
      "<h2>Como funciona</h2>\n",
      "<p>Praesent dapibus mattis orci ornare tempus. Sed laoreet accumsan tincidunt. Quisque fermentum dolor nunc. Nullam luctus ultricies sapien, ac facilisis felis commodo a. Duis quis nibh sapien. Sed aliquam felis vel ornare tincidunt.</p>\n",
      "<h2>O que você pode fazer com o Google Glasses</h2>\n",
      "<p>Curabitur tortor mauris, interdum sed tristique at, tincidunt nec justo. Donec rhoncus felis vel tempus faucibus. Sed venenatis consequat ante, sed fermentum ipsum faucibus sit amet. Pellentesque habitant morbi tristique senectus et netus et malesuada fames ac turpis egestas.</p>\n",
      "</article>\n",
      "<header id=\"cabecalho-artigo\">\n",
      "<hgroup>\n",
      "<h3>Tecnologia &gt;         Inovações</h3>\n",
      "<h1>Saiba tudo sobre o Google Glass</h1>\n",
      "<h2>por Thomas William</h2>\n",
      "</hgroup>\n",
      "</header>\n",
      "<hgroup>\n",
      "<h3>Tecnologia &gt;         Inovações</h3>\n",
      "<h1>Saiba tudo sobre o Google Glass</h1>\n",
      "<h2>por Thomas William</h2>\n",
      "</hgroup>\n",
      "<h3>Tecnologia &gt;         Inovações</h3>\n",
      "<h1>Saiba tudo sobre o Google Glass</h1>\n",
      "<h2>por Thomas William</h2>\n",
      "<h2>O que é ?</h2>\n",
      "<p>O <span style=\"font-weight: bolder;\"> Lorem ipsum</span>  dolor sit amet, consectetur adipiscing elit. Vestibulum ullamcorper id ante vel mattis. Aenean eu egestas turpis. Maecenas id aliquet ante. Duis sagittis, eros a eleifend aliquam, lorem ipsum sodales felis, quis hendrerit massa urna non orci. Sed quis leo at eros tempus tempor. Fusce elementum massa at dui sollicitudin imperdiet. Morbi volutpat ligula in lectus ultricies, in euismod nisi sagittis. Cras a <em>suscipit libero</em>, at viverra enim. Phasellus eget dui justo. \n",
      "</p>\n",
      "<span style=\"font-weight: bolder;\"> Lorem ipsum</span>\n",
      "<em>suscipit libero</em>\n",
      "<h2>Data de lançamento</h2>\n",
      "<p>Donec aliquam urna ut dui placerat porta. Nunc porta, libero nec interdum placerat, neque lacus feugiat tellus, ut iaculis purus nisi eget massa. Sed convallis nisl non nisl posuere fermentum. Cras ac ex convallis, pulvinar nibh at, pharetra sapien. Maecenas fringilla lorem at ante malesuada, et maximus dui pulvinar.</p>\n",
      "<h2>Especificações Técnicas</h2>\n",
      "<table id=\"tabelaspec\">\n",
      "<caption>Tabela Técnica do Google Glass <span>junho/2016</span></caption>\n",
      "<tr><td class=\"ce\">Tela</td> <td class=\"cd\">Resolução equivalente a tela de 25\"</td></tr>\n",
      "<tr><td class=\"ce\" rowspan=\"2\">Camera</td> <td class=\"cd\"> 5MP para fotos</td></tr>\n",
      "<tr><td class=\"cd\">720p para vídeos</td></tr>\n",
      "<tr><td class=\"ce\" rowspan=\"2\">Conectividade</td> <td class=\"cd\">Wi-Fi</td></tr>\n",
      "<tr><td class=\"cd\">Bluetooth</td></tr>\n",
      "<tr><td class=\"ce\">Memória Interna</td> <td class=\"cd\">12GB</td></tr>\n",
      "</table>\n",
      "<caption>Tabela Técnica do Google Glass <span>junho/2016</span></caption>\n",
      "<span>junho/2016</span>\n",
      "<tr><td class=\"ce\">Tela</td> <td class=\"cd\">Resolução equivalente a tela de 25\"</td></tr>\n",
      "<td class=\"ce\">Tela</td>\n",
      "<td class=\"cd\">Resolução equivalente a tela de 25\"</td>\n",
      "<tr><td class=\"ce\" rowspan=\"2\">Camera</td> <td class=\"cd\"> 5MP para fotos</td></tr>\n",
      "<td class=\"ce\" rowspan=\"2\">Camera</td>\n",
      "<td class=\"cd\"> 5MP para fotos</td>\n",
      "<tr><td class=\"cd\">720p para vídeos</td></tr>\n",
      "<td class=\"cd\">720p para vídeos</td>\n",
      "<tr><td class=\"ce\" rowspan=\"2\">Conectividade</td> <td class=\"cd\">Wi-Fi</td></tr>\n",
      "<td class=\"ce\" rowspan=\"2\">Conectividade</td>\n",
      "<td class=\"cd\">Wi-Fi</td>\n",
      "<tr><td class=\"cd\">Bluetooth</td></tr>\n",
      "<td class=\"cd\">Bluetooth</td>\n",
      "<tr><td class=\"ce\">Memória Interna</td> <td class=\"cd\">12GB</td></tr>\n",
      "<td class=\"ce\">Memória Interna</td>\n",
      "<td class=\"cd\">12GB</td>\n",
      "<h2>Como funciona</h2>\n",
      "<p>Praesent dapibus mattis orci ornare tempus. Sed laoreet accumsan tincidunt. Quisque fermentum dolor nunc. Nullam luctus ultricies sapien, ac facilisis felis commodo a. Duis quis nibh sapien. Sed aliquam felis vel ornare tincidunt.</p>\n",
      "<h2>O que você pode fazer com o Google Glasses</h2>\n",
      "<p>Curabitur tortor mauris, interdum sed tristique at, tincidunt nec justo. Donec rhoncus felis vel tempus faucibus. Sed venenatis consequat ante, sed fermentum ipsum faucibus sit amet. Pellentesque habitant morbi tristique senectus et netus et malesuada fames ac turpis egestas.</p>\n",
      "<aside id=\"lateral\">\n",
      "<h1>Outras Notícias</h1>\n",
      "<h2>Vídeo mais recente</h2>\n",
      "<video controls=\"controls\" id=\"filme\" poster=\"_imagens/video-mini02.jpg\">\n",
      "<source src=\"_media/how-it-feels.mp4\" type=\"video/mp4\"/>\n",
      "<source src=\"_media/how-it-feels.webm\" type=\"video/webm\"/>\n",
      "<source src=\"_media/how-it-feels.ogv\" type=\"video/ogg\"/>\n",
      "\t\tDesculpe, mas não foi possível carregar o vídeo\n",
      "\t</video>\n",
      "<h1>Novidades</h1>\n",
      "<p>Phasellus fermentum non diam vitae ultricies. Aliquam fermentum justo eget venenatis luctus. Lorem ipsum dolor sit amet, consectetur adipiscing elit. Nullam orci lectus, molestie non elit nec, tincidunt suscipit nisi. Morbi libero mauris, sodales eu massa eget. \n",
      "\n",
      "\tPellentesque habitant morbi tristique senectus et netus et malesuada fames ac turpis egestas. Praesent id fringilla arcu. Cras nec massa ex. Integer maximus facilisis congue. Suspendisse potenti. Nunc molestie arcu a elementum ultricies.</p>\n",
      "</aside>\n",
      "<h1>Outras Notícias</h1>\n",
      "<h2>Vídeo mais recente</h2>\n",
      "<video controls=\"controls\" id=\"filme\" poster=\"_imagens/video-mini02.jpg\">\n",
      "<source src=\"_media/how-it-feels.mp4\" type=\"video/mp4\"/>\n",
      "<source src=\"_media/how-it-feels.webm\" type=\"video/webm\"/>\n",
      "<source src=\"_media/how-it-feels.ogv\" type=\"video/ogg\"/>\n",
      "\t\tDesculpe, mas não foi possível carregar o vídeo\n",
      "\t</video>\n",
      "<source src=\"_media/how-it-feels.mp4\" type=\"video/mp4\"/>\n",
      "<source src=\"_media/how-it-feels.webm\" type=\"video/webm\"/>\n",
      "<source src=\"_media/how-it-feels.ogv\" type=\"video/ogg\"/>\n",
      "<h1>Novidades</h1>\n",
      "<p>Phasellus fermentum non diam vitae ultricies. Aliquam fermentum justo eget venenatis luctus. Lorem ipsum dolor sit amet, consectetur adipiscing elit. Nullam orci lectus, molestie non elit nec, tincidunt suscipit nisi. Morbi libero mauris, sodales eu massa eget. \n",
      "\n",
      "\tPellentesque habitant morbi tristique senectus et netus et malesuada fames ac turpis egestas. Praesent id fringilla arcu. Cras nec massa ex. Integer maximus facilisis congue. Suspendisse potenti. Nunc molestie arcu a elementum ultricies.</p>\n",
      "<footer id=\"rodape\">\n",
      "<p>Copyright © 2013 - by Thomas William <br/>\n",
      "<a href=\"https://www.facebook.com/TheLifelongTeacher/?fref=ts\" target=\"_blank\">Facebook</a> | \n",
      "\t<a href=\"https://www.udemy.com/user/marcoscastrodesouza/\" target=\"_blank\">Udemy</a></p>\n",
      "</footer>\n",
      "<p>Copyright © 2013 - by Thomas William <br/>\n",
      "<a href=\"https://www.facebook.com/TheLifelongTeacher/?fref=ts\" target=\"_blank\">Facebook</a> | \n",
      "\t<a href=\"https://www.udemy.com/user/marcoscastrodesouza/\" target=\"_blank\">Udemy</a></p>\n",
      "<br/>\n",
      "<a href=\"https://www.facebook.com/TheLifelongTeacher/?fref=ts\" target=\"_blank\">Facebook</a>\n",
      "<a href=\"https://www.udemy.com/user/marcoscastrodesouza/\" target=\"_blank\">Udemy</a>\n"
     ]
    }
   ],
   "source": [
    "for tag in site02.descendants:\n",
    "    if isinstance(tag, Tag):\n",
    "        print(tag)"
   ]
  },
  {
   "cell_type": "code",
   "execution_count": 364,
   "metadata": {},
   "outputs": [
    {
     "name": "stdout",
     "output_type": "stream",
     "text": [
      "'\\n'\n",
      "'Outras Notícias'\n",
      "'\\n'\n",
      "'Vídeo mais recente'\n",
      "'\\n'\n",
      "'\\n'\n",
      "'\\n'\n",
      "'\\n'\n",
      "'\\n\\t\\tDesculpe, mas não foi possível carregar o vídeo\\n\\t'\n",
      "'\\n'\n",
      "'Novidades'\n",
      "'\\n'\n",
      "'Phasellus fermentum non diam vitae ultricies. Aliquam fermentum justo eget venenatis luctus. Lorem ipsum dolor sit amet, consectetur adipiscing elit. Nullam orci lectus, molestie non elit nec, tincidunt suscipit nisi. Morbi libero mauris, sodales eu massa eget. \\n\\n\\tPellentesque habitant morbi tristique senectus et netus et malesuada fames ac turpis egestas. Praesent id fringilla arcu. Cras nec massa ex. Integer maximus facilisis congue. Suspendisse potenti. Nunc molestie arcu a elementum ultricies.'\n",
      "'\\n'\n"
     ]
    }
   ],
   "source": [
    "for string in site02.aside.strings:\n",
    "    print(repr(string)) #gera interpretacoes que o interpretador python possa ler"
   ]
  },
  {
   "cell_type": "code",
   "execution_count": 366,
   "metadata": {},
   "outputs": [
    {
     "name": "stdout",
     "output_type": "stream",
     "text": [
      "'Outras Notícias'\n",
      "'Vídeo mais recente'\n",
      "'Desculpe, mas não foi possível carregar o vídeo'\n",
      "'Novidades'\n",
      "'Phasellus fermentum non diam vitae ultricies. Aliquam fermentum justo eget venenatis luctus. Lorem ipsum dolor sit amet, consectetur adipiscing elit. Nullam orci lectus, molestie non elit nec, tincidunt suscipit nisi. Morbi libero mauris, sodales eu massa eget. \\n\\n\\tPellentesque habitant morbi tristique senectus et netus et malesuada fames ac turpis egestas. Praesent id fringilla arcu. Cras nec massa ex. Integer maximus facilisis congue. Suspendisse potenti. Nunc molestie arcu a elementum ultricies.'\n"
     ]
    }
   ],
   "source": [
    "for string in site02.aside.stripped_strings: #stripped strings remove os espacos em branco\n",
    "    print(repr(string))"
   ]
  },
  {
   "cell_type": "code",
   "execution_count": 382,
   "metadata": {},
   "outputs": [
    {
     "name": "stdout",
     "output_type": "stream",
     "text": [
      "tr\n",
      "table\n",
      "article\n",
      "section\n",
      "div\n",
      "body\n",
      "html\n",
      "[document]\n"
     ]
    }
   ],
   "source": [
    "#subindo na arvore html (acessando pais)\n",
    "#----------------------\n",
    "#print(site02.html.parent)\n",
    "#print(site02.title.parent) #tag head\n",
    "#print(site02.td.parent.parent)\n",
    "\n",
    "for pai in site02.td.parents:\n",
    "    print(pai.name)"
   ]
  },
  {
   "cell_type": "code",
   "execution_count": 391,
   "metadata": {},
   "outputs": [
    {
     "name": "stdout",
     "output_type": "stream",
     "text": [
      "<tr><td class=\"ce\">Tela</td> <td class=\"cd\">Resolução equivalente a tela de 25\"</td></tr>\n"
     ]
    }
   ],
   "source": [
    "#acessando irmaos (arvore html)\n",
    "print(site02.td.parent) #mostrando todos os irmaos da tag <td> (irmaos estao no mesmo nivel)"
   ]
  },
  {
   "cell_type": "code",
   "execution_count": 392,
   "metadata": {},
   "outputs": [
    {
     "name": "stdout",
     "output_type": "stream",
     "text": [
      "<td class=\"cd\">Resolução equivalente a tela de 25\"</td>\n"
     ]
    }
   ],
   "source": [
    "print(site02.td.next_sibling.next_sibling)"
   ]
  },
  {
   "cell_type": "code",
   "execution_count": 406,
   "metadata": {},
   "outputs": [
    {
     "name": "stdout",
     "output_type": "stream",
     "text": [
      "'\\n'\n",
      "<h2>O que é ?</h2>\n",
      "'\\n'\n",
      "<header id=\"cabecalho-artigo\">\n",
      "<hgroup>\n",
      "<h3>Tecnologia &gt;         Inovações</h3>\n",
      "<h1>Saiba tudo sobre o Google Glass</h1>\n",
      "<h2>por Thomas William</h2>\n",
      "</hgroup>\n",
      "</header>\n",
      "'\\n'\n"
     ]
    }
   ],
   "source": [
    "for sb in site02.p.previous_siblings:\n",
    "    print (repr(sb))"
   ]
  },
  {
   "cell_type": "code",
   "execution_count": 427,
   "metadata": {},
   "outputs": [
    {
     "name": "stdout",
     "output_type": "stream",
     "text": [
      "<p>Copyright © 2013 - by Thomas William <br/>\n",
      "<a href=\"https://www.facebook.com/TheLifelongTeacher/?fref=ts\" target=\"_blank\">Facebook</a> | \n",
      "\t<a href=\"https://www.udemy.com/user/marcoscastrodesouza/\" target=\"_blank\">Udemy</a></p>\n",
      "<br/>\n",
      "<a href=\"https://www.facebook.com/TheLifelongTeacher/?fref=ts\" target=\"_blank\">Facebook</a>\n",
      "<a href=\"https://www.udemy.com/user/marcoscastrodesouza/\" target=\"_blank\">Udemy</a>\n"
     ]
    }
   ],
   "source": [
    "#print(site02.p.next_element.next_element) #pra baixo na arvore\n",
    "#print(site02.h2.previous_element.previous_element) #pra cima na arvore\n",
    "\n",
    "from bs4.element import Tag\n",
    "\n",
    "#iterando nos elementos\n",
    "for it in site02.footer.next_elements:\n",
    "    if isinstance(it, Tag): #se for uma tag\n",
    "        print(it)"
   ]
  },
  {
   "cell_type": "code",
   "execution_count": 431,
   "metadata": {},
   "outputs": [
    {
     "name": "stdout",
     "output_type": "stream",
     "text": [
      "'\\n'\n",
      "<header id=\"cabecalho\">\n",
      "<hgroup>\n",
      "<h1>Google Glass</h1>\n",
      "<h2>A revolução do Google está chegando</h2>\n",
      "</hgroup>\n",
      "</header>\n",
      "'\\n'\n",
      "<div id=\"interface\">\n",
      "<header id=\"cabecalho\">\n",
      "<hgroup>\n",
      "<h1>Google Glass</h1>\n",
      "<h2>A revolução do Google está chegando</h2>\n",
      "</hgroup>\n",
      "</header>\n",
      "<section id=\"corpo\">\n",
      "<article id=\"noticia-principal\">\n",
      "<header id=\"cabecalho-artigo\">\n",
      "<hgroup>\n",
      "<h3>Tecnologia &gt;         Inovações</h3>\n",
      "<h1>Saiba tudo sobre o Google Glass</h1>\n",
      "<h2>por Thomas William</h2>\n",
      "</hgroup>\n",
      "</header>\n",
      "<h2>O que é ?</h2>\n",
      "<p>O <span style=\"font-weight: bolder;\"> Lorem ipsum</span>  dolor sit amet, consectetur adipiscing elit. Vestibulum ullamcorper id ante vel mattis. Aenean eu egestas turpis. Maecenas id aliquet ante. Duis sagittis, eros a eleifend aliquam, lorem ipsum sodales felis, quis hendrerit massa urna non orci. Sed quis leo at eros tempus tempor. Fusce elementum massa at dui sollicitudin imperdiet. Morbi volutpat ligula in lectus ultricies, in euismod nisi sagittis. Cras a <em>suscipit libero</em>, at viverra enim. Phasellus eget dui justo. \n",
      "</p>\n",
      "<h2>Data de lançamento</h2>\n",
      "<p>Donec aliquam urna ut dui placerat porta. Nunc porta, libero nec interdum placerat, neque lacus feugiat tellus, ut iaculis purus nisi eget massa. Sed convallis nisl non nisl posuere fermentum. Cras ac ex convallis, pulvinar nibh at, pharetra sapien. Maecenas fringilla lorem at ante malesuada, et maximus dui pulvinar.</p>\n",
      "<h2>Especificações Técnicas</h2>\n",
      "<table id=\"tabelaspec\">\n",
      "<caption>Tabela Técnica do Google Glass <span>junho/2016</span></caption>\n",
      "<tr><td class=\"ce\">Tela</td> <td class=\"cd\">Resolução equivalente a tela de 25\"</td></tr>\n",
      "<tr><td class=\"ce\" rowspan=\"2\">Camera</td> <td class=\"cd\"> 5MP para fotos</td></tr>\n",
      "<tr><td class=\"cd\">720p para vídeos</td></tr>\n",
      "<tr><td class=\"ce\" rowspan=\"2\">Conectividade</td> <td class=\"cd\">Wi-Fi</td></tr>\n",
      "<tr><td class=\"cd\">Bluetooth</td></tr>\n",
      "<tr><td class=\"ce\">Memória Interna</td> <td class=\"cd\">12GB</td></tr>\n",
      "</table>\n",
      "<h2>Como funciona</h2>\n",
      "<p>Praesent dapibus mattis orci ornare tempus. Sed laoreet accumsan tincidunt. Quisque fermentum dolor nunc. Nullam luctus ultricies sapien, ac facilisis felis commodo a. Duis quis nibh sapien. Sed aliquam felis vel ornare tincidunt.</p>\n",
      "<h2>O que você pode fazer com o Google Glasses</h2>\n",
      "<p>Curabitur tortor mauris, interdum sed tristique at, tincidunt nec justo. Donec rhoncus felis vel tempus faucibus. Sed venenatis consequat ante, sed fermentum ipsum faucibus sit amet. Pellentesque habitant morbi tristique senectus et netus et malesuada fames ac turpis egestas.</p>\n",
      "</article>\n",
      "</section>\n",
      "<aside id=\"lateral\">\n",
      "<h1>Outras Notícias</h1>\n",
      "<h2>Vídeo mais recente</h2>\n",
      "<video controls=\"controls\" id=\"filme\" poster=\"_imagens/video-mini02.jpg\">\n",
      "<source src=\"_media/how-it-feels.mp4\" type=\"video/mp4\"/>\n",
      "<source src=\"_media/how-it-feels.webm\" type=\"video/webm\"/>\n",
      "<source src=\"_media/how-it-feels.ogv\" type=\"video/ogg\"/>\n",
      "\t\tDesculpe, mas não foi possível carregar o vídeo\n",
      "\t</video>\n",
      "<h1>Novidades</h1>\n",
      "<p>Phasellus fermentum non diam vitae ultricies. Aliquam fermentum justo eget venenatis luctus. Lorem ipsum dolor sit amet, consectetur adipiscing elit. Nullam orci lectus, molestie non elit nec, tincidunt suscipit nisi. Morbi libero mauris, sodales eu massa eget. \n",
      "\n",
      "\tPellentesque habitant morbi tristique senectus et netus et malesuada fames ac turpis egestas. Praesent id fringilla arcu. Cras nec massa ex. Integer maximus facilisis congue. Suspendisse potenti. Nunc molestie arcu a elementum ultricies.</p>\n",
      "</aside>\n",
      "<footer id=\"rodape\">\n",
      "<p>Copyright © 2013 - by Thomas William <br/>\n",
      "<a href=\"https://www.facebook.com/TheLifelongTeacher/?fref=ts\" target=\"_blank\">Facebook</a> | \n",
      "\t<a href=\"https://www.udemy.com/user/marcoscastrodesouza/\" target=\"_blank\">Udemy</a></p>\n",
      "</footer>\n",
      "</div>\n",
      "'\\n'\n",
      "<body>\n",
      "<div id=\"interface\">\n",
      "<header id=\"cabecalho\">\n",
      "<hgroup>\n",
      "<h1>Google Glass</h1>\n",
      "<h2>A revolução do Google está chegando</h2>\n",
      "</hgroup>\n",
      "</header>\n",
      "<section id=\"corpo\">\n",
      "<article id=\"noticia-principal\">\n",
      "<header id=\"cabecalho-artigo\">\n",
      "<hgroup>\n",
      "<h3>Tecnologia &gt;         Inovações</h3>\n",
      "<h1>Saiba tudo sobre o Google Glass</h1>\n",
      "<h2>por Thomas William</h2>\n",
      "</hgroup>\n",
      "</header>\n",
      "<h2>O que é ?</h2>\n",
      "<p>O <span style=\"font-weight: bolder;\"> Lorem ipsum</span>  dolor sit amet, consectetur adipiscing elit. Vestibulum ullamcorper id ante vel mattis. Aenean eu egestas turpis. Maecenas id aliquet ante. Duis sagittis, eros a eleifend aliquam, lorem ipsum sodales felis, quis hendrerit massa urna non orci. Sed quis leo at eros tempus tempor. Fusce elementum massa at dui sollicitudin imperdiet. Morbi volutpat ligula in lectus ultricies, in euismod nisi sagittis. Cras a <em>suscipit libero</em>, at viverra enim. Phasellus eget dui justo. \n",
      "</p>\n",
      "<h2>Data de lançamento</h2>\n",
      "<p>Donec aliquam urna ut dui placerat porta. Nunc porta, libero nec interdum placerat, neque lacus feugiat tellus, ut iaculis purus nisi eget massa. Sed convallis nisl non nisl posuere fermentum. Cras ac ex convallis, pulvinar nibh at, pharetra sapien. Maecenas fringilla lorem at ante malesuada, et maximus dui pulvinar.</p>\n",
      "<h2>Especificações Técnicas</h2>\n",
      "<table id=\"tabelaspec\">\n",
      "<caption>Tabela Técnica do Google Glass <span>junho/2016</span></caption>\n",
      "<tr><td class=\"ce\">Tela</td> <td class=\"cd\">Resolução equivalente a tela de 25\"</td></tr>\n",
      "<tr><td class=\"ce\" rowspan=\"2\">Camera</td> <td class=\"cd\"> 5MP para fotos</td></tr>\n",
      "<tr><td class=\"cd\">720p para vídeos</td></tr>\n",
      "<tr><td class=\"ce\" rowspan=\"2\">Conectividade</td> <td class=\"cd\">Wi-Fi</td></tr>\n",
      "<tr><td class=\"cd\">Bluetooth</td></tr>\n",
      "<tr><td class=\"ce\">Memória Interna</td> <td class=\"cd\">12GB</td></tr>\n",
      "</table>\n",
      "<h2>Como funciona</h2>\n",
      "<p>Praesent dapibus mattis orci ornare tempus. Sed laoreet accumsan tincidunt. Quisque fermentum dolor nunc. Nullam luctus ultricies sapien, ac facilisis felis commodo a. Duis quis nibh sapien. Sed aliquam felis vel ornare tincidunt.</p>\n",
      "<h2>O que você pode fazer com o Google Glasses</h2>\n",
      "<p>Curabitur tortor mauris, interdum sed tristique at, tincidunt nec justo. Donec rhoncus felis vel tempus faucibus. Sed venenatis consequat ante, sed fermentum ipsum faucibus sit amet. Pellentesque habitant morbi tristique senectus et netus et malesuada fames ac turpis egestas.</p>\n",
      "</article>\n",
      "</section>\n",
      "<aside id=\"lateral\">\n",
      "<h1>Outras Notícias</h1>\n",
      "<h2>Vídeo mais recente</h2>\n",
      "<video controls=\"controls\" id=\"filme\" poster=\"_imagens/video-mini02.jpg\">\n",
      "<source src=\"_media/how-it-feels.mp4\" type=\"video/mp4\"/>\n",
      "<source src=\"_media/how-it-feels.webm\" type=\"video/webm\"/>\n",
      "<source src=\"_media/how-it-feels.ogv\" type=\"video/ogg\"/>\n",
      "\t\tDesculpe, mas não foi possível carregar o vídeo\n",
      "\t</video>\n",
      "<h1>Novidades</h1>\n",
      "<p>Phasellus fermentum non diam vitae ultricies. Aliquam fermentum justo eget venenatis luctus. Lorem ipsum dolor sit amet, consectetur adipiscing elit. Nullam orci lectus, molestie non elit nec, tincidunt suscipit nisi. Morbi libero mauris, sodales eu massa eget. \n",
      "\n",
      "\tPellentesque habitant morbi tristique senectus et netus et malesuada fames ac turpis egestas. Praesent id fringilla arcu. Cras nec massa ex. Integer maximus facilisis congue. Suspendisse potenti. Nunc molestie arcu a elementum ultricies.</p>\n",
      "</aside>\n",
      "<footer id=\"rodape\">\n",
      "<p>Copyright © 2013 - by Thomas William <br/>\n",
      "<a href=\"https://www.facebook.com/TheLifelongTeacher/?fref=ts\" target=\"_blank\">Facebook</a> | \n",
      "\t<a href=\"https://www.udemy.com/user/marcoscastrodesouza/\" target=\"_blank\">Udemy</a></p>\n",
      "</footer>\n",
      "</div>\n",
      "</body>\n",
      "'\\n'\n",
      "'\\n'\n",
      "<meta content=\"text/html; charset=utf-8\" http-equiv=\"Content-Type\"/>\n",
      "'\\n'\n",
      "'Tudo Sobre Google Glass'\n",
      "<title>Tudo Sobre Google Glass</title>\n",
      "'\\n'\n",
      "<head>\n",
      "<title>Tudo Sobre Google Glass</title>\n",
      "<meta content=\"text/html; charset=utf-8\" http-equiv=\"Content-Type\"/>\n",
      "</head>\n",
      "'\\n'\n",
      "<html lang=\"pt-br\">\n",
      "<head>\n",
      "<title>Tudo Sobre Google Glass</title>\n",
      "<meta content=\"text/html; charset=utf-8\" http-equiv=\"Content-Type\"/>\n",
      "</head>\n",
      "<body>\n",
      "<div id=\"interface\">\n",
      "<header id=\"cabecalho\">\n",
      "<hgroup>\n",
      "<h1>Google Glass</h1>\n",
      "<h2>A revolução do Google está chegando</h2>\n",
      "</hgroup>\n",
      "</header>\n",
      "<section id=\"corpo\">\n",
      "<article id=\"noticia-principal\">\n",
      "<header id=\"cabecalho-artigo\">\n",
      "<hgroup>\n",
      "<h3>Tecnologia &gt;         Inovações</h3>\n",
      "<h1>Saiba tudo sobre o Google Glass</h1>\n",
      "<h2>por Thomas William</h2>\n",
      "</hgroup>\n",
      "</header>\n",
      "<h2>O que é ?</h2>\n",
      "<p>O <span style=\"font-weight: bolder;\"> Lorem ipsum</span>  dolor sit amet, consectetur adipiscing elit. Vestibulum ullamcorper id ante vel mattis. Aenean eu egestas turpis. Maecenas id aliquet ante. Duis sagittis, eros a eleifend aliquam, lorem ipsum sodales felis, quis hendrerit massa urna non orci. Sed quis leo at eros tempus tempor. Fusce elementum massa at dui sollicitudin imperdiet. Morbi volutpat ligula in lectus ultricies, in euismod nisi sagittis. Cras a <em>suscipit libero</em>, at viverra enim. Phasellus eget dui justo. \n",
      "</p>\n",
      "<h2>Data de lançamento</h2>\n",
      "<p>Donec aliquam urna ut dui placerat porta. Nunc porta, libero nec interdum placerat, neque lacus feugiat tellus, ut iaculis purus nisi eget massa. Sed convallis nisl non nisl posuere fermentum. Cras ac ex convallis, pulvinar nibh at, pharetra sapien. Maecenas fringilla lorem at ante malesuada, et maximus dui pulvinar.</p>\n",
      "<h2>Especificações Técnicas</h2>\n",
      "<table id=\"tabelaspec\">\n",
      "<caption>Tabela Técnica do Google Glass <span>junho/2016</span></caption>\n",
      "<tr><td class=\"ce\">Tela</td> <td class=\"cd\">Resolução equivalente a tela de 25\"</td></tr>\n",
      "<tr><td class=\"ce\" rowspan=\"2\">Camera</td> <td class=\"cd\"> 5MP para fotos</td></tr>\n",
      "<tr><td class=\"cd\">720p para vídeos</td></tr>\n",
      "<tr><td class=\"ce\" rowspan=\"2\">Conectividade</td> <td class=\"cd\">Wi-Fi</td></tr>\n",
      "<tr><td class=\"cd\">Bluetooth</td></tr>\n",
      "<tr><td class=\"ce\">Memória Interna</td> <td class=\"cd\">12GB</td></tr>\n",
      "</table>\n",
      "<h2>Como funciona</h2>\n",
      "<p>Praesent dapibus mattis orci ornare tempus. Sed laoreet accumsan tincidunt. Quisque fermentum dolor nunc. Nullam luctus ultricies sapien, ac facilisis felis commodo a. Duis quis nibh sapien. Sed aliquam felis vel ornare tincidunt.</p>\n",
      "<h2>O que você pode fazer com o Google Glasses</h2>\n",
      "<p>Curabitur tortor mauris, interdum sed tristique at, tincidunt nec justo. Donec rhoncus felis vel tempus faucibus. Sed venenatis consequat ante, sed fermentum ipsum faucibus sit amet. Pellentesque habitant morbi tristique senectus et netus et malesuada fames ac turpis egestas.</p>\n",
      "</article>\n",
      "</section>\n",
      "<aside id=\"lateral\">\n",
      "<h1>Outras Notícias</h1>\n",
      "<h2>Vídeo mais recente</h2>\n",
      "<video controls=\"controls\" id=\"filme\" poster=\"_imagens/video-mini02.jpg\">\n",
      "<source src=\"_media/how-it-feels.mp4\" type=\"video/mp4\"/>\n",
      "<source src=\"_media/how-it-feels.webm\" type=\"video/webm\"/>\n",
      "<source src=\"_media/how-it-feels.ogv\" type=\"video/ogg\"/>\n",
      "\t\tDesculpe, mas não foi possível carregar o vídeo\n",
      "\t</video>\n",
      "<h1>Novidades</h1>\n",
      "<p>Phasellus fermentum non diam vitae ultricies. Aliquam fermentum justo eget venenatis luctus. Lorem ipsum dolor sit amet, consectetur adipiscing elit. Nullam orci lectus, molestie non elit nec, tincidunt suscipit nisi. Morbi libero mauris, sodales eu massa eget. \n",
      "\n",
      "\tPellentesque habitant morbi tristique senectus et netus et malesuada fames ac turpis egestas. Praesent id fringilla arcu. Cras nec massa ex. Integer maximus facilisis congue. Suspendisse potenti. Nunc molestie arcu a elementum ultricies.</p>\n",
      "</aside>\n",
      "<footer id=\"rodape\">\n",
      "<p>Copyright © 2013 - by Thomas William <br/>\n",
      "<a href=\"https://www.facebook.com/TheLifelongTeacher/?fref=ts\" target=\"_blank\">Facebook</a> | \n",
      "\t<a href=\"https://www.udemy.com/user/marcoscastrodesouza/\" target=\"_blank\">Udemy</a></p>\n",
      "</footer>\n",
      "</div>\n",
      "</body>\n",
      "</html>\n",
      "'html'\n"
     ]
    }
   ],
   "source": [
    "for it in site02.hgroup.previous_elements:\n",
    "    print(repr(it))"
   ]
  },
  {
   "cell_type": "code",
   "execution_count": 433,
   "metadata": {},
   "outputs": [
    {
     "name": "stdout",
     "output_type": "stream",
     "text": [
      "<p>Phasellus fermentum non diam vitae ultricies. Aliquam fermentum justo eget venenatis luctus. Lorem ipsum dolor sit amet, consectetur adipiscing elit. Nullam orci lectus, molestie non elit nec, tincidunt suscipit nisi. Morbi libero mauris, sodales eu massa eget. \n",
      "\n",
      "\tPellentesque habitant morbi tristique senectus et netus et malesuada fames ac turpis egestas. Praesent id fringilla arcu. Cras nec massa ex. Integer maximus facilisis congue. Suspendisse potenti. Nunc molestie arcu a elementum ultricies.</p>\n",
      "<h1>Novidades</h1>\n",
      "<source src=\"_media/how-it-feels.ogv\" type=\"video/ogg\"/>\n",
      "<source src=\"_media/how-it-feels.webm\" type=\"video/webm\"/>\n",
      "<source src=\"_media/how-it-feels.mp4\" type=\"video/mp4\"/>\n",
      "<video controls=\"controls\" id=\"filme\" poster=\"_imagens/video-mini02.jpg\">\n",
      "<source src=\"_media/how-it-feels.mp4\" type=\"video/mp4\"/>\n",
      "<source src=\"_media/how-it-feels.webm\" type=\"video/webm\"/>\n",
      "<source src=\"_media/how-it-feels.ogv\" type=\"video/ogg\"/>\n",
      "\t\tDesculpe, mas não foi possível carregar o vídeo\n",
      "\t</video>\n",
      "<h2>Vídeo mais recente</h2>\n",
      "<h1>Outras Notícias</h1>\n",
      "<aside id=\"lateral\">\n",
      "<h1>Outras Notícias</h1>\n",
      "<h2>Vídeo mais recente</h2>\n",
      "<video controls=\"controls\" id=\"filme\" poster=\"_imagens/video-mini02.jpg\">\n",
      "<source src=\"_media/how-it-feels.mp4\" type=\"video/mp4\"/>\n",
      "<source src=\"_media/how-it-feels.webm\" type=\"video/webm\"/>\n",
      "<source src=\"_media/how-it-feels.ogv\" type=\"video/ogg\"/>\n",
      "\t\tDesculpe, mas não foi possível carregar o vídeo\n",
      "\t</video>\n",
      "<h1>Novidades</h1>\n",
      "<p>Phasellus fermentum non diam vitae ultricies. Aliquam fermentum justo eget venenatis luctus. Lorem ipsum dolor sit amet, consectetur adipiscing elit. Nullam orci lectus, molestie non elit nec, tincidunt suscipit nisi. Morbi libero mauris, sodales eu massa eget. \n",
      "\n",
      "\tPellentesque habitant morbi tristique senectus et netus et malesuada fames ac turpis egestas. Praesent id fringilla arcu. Cras nec massa ex. Integer maximus facilisis congue. Suspendisse potenti. Nunc molestie arcu a elementum ultricies.</p>\n",
      "</aside>\n",
      "<p>Curabitur tortor mauris, interdum sed tristique at, tincidunt nec justo. Donec rhoncus felis vel tempus faucibus. Sed venenatis consequat ante, sed fermentum ipsum faucibus sit amet. Pellentesque habitant morbi tristique senectus et netus et malesuada fames ac turpis egestas.</p>\n",
      "<h2>O que você pode fazer com o Google Glasses</h2>\n",
      "<p>Praesent dapibus mattis orci ornare tempus. Sed laoreet accumsan tincidunt. Quisque fermentum dolor nunc. Nullam luctus ultricies sapien, ac facilisis felis commodo a. Duis quis nibh sapien. Sed aliquam felis vel ornare tincidunt.</p>\n",
      "<h2>Como funciona</h2>\n",
      "<td class=\"cd\">12GB</td>\n",
      "<td class=\"ce\">Memória Interna</td>\n",
      "<tr><td class=\"ce\">Memória Interna</td> <td class=\"cd\">12GB</td></tr>\n",
      "<td class=\"cd\">Bluetooth</td>\n",
      "<tr><td class=\"cd\">Bluetooth</td></tr>\n",
      "<td class=\"cd\">Wi-Fi</td>\n",
      "<td class=\"ce\" rowspan=\"2\">Conectividade</td>\n",
      "<tr><td class=\"ce\" rowspan=\"2\">Conectividade</td> <td class=\"cd\">Wi-Fi</td></tr>\n",
      "<td class=\"cd\">720p para vídeos</td>\n",
      "<tr><td class=\"cd\">720p para vídeos</td></tr>\n",
      "<td class=\"cd\"> 5MP para fotos</td>\n",
      "<td class=\"ce\" rowspan=\"2\">Camera</td>\n",
      "<tr><td class=\"ce\" rowspan=\"2\">Camera</td> <td class=\"cd\"> 5MP para fotos</td></tr>\n",
      "<td class=\"cd\">Resolução equivalente a tela de 25\"</td>\n",
      "<td class=\"ce\">Tela</td>\n",
      "<tr><td class=\"ce\">Tela</td> <td class=\"cd\">Resolução equivalente a tela de 25\"</td></tr>\n",
      "<span>junho/2016</span>\n",
      "<caption>Tabela Técnica do Google Glass <span>junho/2016</span></caption>\n",
      "<table id=\"tabelaspec\">\n",
      "<caption>Tabela Técnica do Google Glass <span>junho/2016</span></caption>\n",
      "<tr><td class=\"ce\">Tela</td> <td class=\"cd\">Resolução equivalente a tela de 25\"</td></tr>\n",
      "<tr><td class=\"ce\" rowspan=\"2\">Camera</td> <td class=\"cd\"> 5MP para fotos</td></tr>\n",
      "<tr><td class=\"cd\">720p para vídeos</td></tr>\n",
      "<tr><td class=\"ce\" rowspan=\"2\">Conectividade</td> <td class=\"cd\">Wi-Fi</td></tr>\n",
      "<tr><td class=\"cd\">Bluetooth</td></tr>\n",
      "<tr><td class=\"ce\">Memória Interna</td> <td class=\"cd\">12GB</td></tr>\n",
      "</table>\n",
      "<h2>Especificações Técnicas</h2>\n",
      "<p>Donec aliquam urna ut dui placerat porta. Nunc porta, libero nec interdum placerat, neque lacus feugiat tellus, ut iaculis purus nisi eget massa. Sed convallis nisl non nisl posuere fermentum. Cras ac ex convallis, pulvinar nibh at, pharetra sapien. Maecenas fringilla lorem at ante malesuada, et maximus dui pulvinar.</p>\n",
      "<h2>Data de lançamento</h2>\n",
      "<em>suscipit libero</em>\n",
      "<span style=\"font-weight: bolder;\"> Lorem ipsum</span>\n",
      "<p>O <span style=\"font-weight: bolder;\"> Lorem ipsum</span>  dolor sit amet, consectetur adipiscing elit. Vestibulum ullamcorper id ante vel mattis. Aenean eu egestas turpis. Maecenas id aliquet ante. Duis sagittis, eros a eleifend aliquam, lorem ipsum sodales felis, quis hendrerit massa urna non orci. Sed quis leo at eros tempus tempor. Fusce elementum massa at dui sollicitudin imperdiet. Morbi volutpat ligula in lectus ultricies, in euismod nisi sagittis. Cras a <em>suscipit libero</em>, at viverra enim. Phasellus eget dui justo. \n",
      "</p>\n",
      "<h2>O que é ?</h2>\n",
      "<h2>por Thomas William</h2>\n",
      "<h1>Saiba tudo sobre o Google Glass</h1>\n",
      "<h3>Tecnologia &gt;         Inovações</h3>\n",
      "<hgroup>\n",
      "<h3>Tecnologia &gt;         Inovações</h3>\n",
      "<h1>Saiba tudo sobre o Google Glass</h1>\n",
      "<h2>por Thomas William</h2>\n",
      "</hgroup>\n",
      "<header id=\"cabecalho-artigo\">\n",
      "<hgroup>\n",
      "<h3>Tecnologia &gt;         Inovações</h3>\n",
      "<h1>Saiba tudo sobre o Google Glass</h1>\n",
      "<h2>por Thomas William</h2>\n",
      "</hgroup>\n",
      "</header>\n",
      "<article id=\"noticia-principal\">\n",
      "<header id=\"cabecalho-artigo\">\n",
      "<hgroup>\n",
      "<h3>Tecnologia &gt;         Inovações</h3>\n",
      "<h1>Saiba tudo sobre o Google Glass</h1>\n",
      "<h2>por Thomas William</h2>\n",
      "</hgroup>\n",
      "</header>\n",
      "<h2>O que é ?</h2>\n",
      "<p>O <span style=\"font-weight: bolder;\"> Lorem ipsum</span>  dolor sit amet, consectetur adipiscing elit. Vestibulum ullamcorper id ante vel mattis. Aenean eu egestas turpis. Maecenas id aliquet ante. Duis sagittis, eros a eleifend aliquam, lorem ipsum sodales felis, quis hendrerit massa urna non orci. Sed quis leo at eros tempus tempor. Fusce elementum massa at dui sollicitudin imperdiet. Morbi volutpat ligula in lectus ultricies, in euismod nisi sagittis. Cras a <em>suscipit libero</em>, at viverra enim. Phasellus eget dui justo. \n",
      "</p>\n",
      "<h2>Data de lançamento</h2>\n",
      "<p>Donec aliquam urna ut dui placerat porta. Nunc porta, libero nec interdum placerat, neque lacus feugiat tellus, ut iaculis purus nisi eget massa. Sed convallis nisl non nisl posuere fermentum. Cras ac ex convallis, pulvinar nibh at, pharetra sapien. Maecenas fringilla lorem at ante malesuada, et maximus dui pulvinar.</p>\n",
      "<h2>Especificações Técnicas</h2>\n",
      "<table id=\"tabelaspec\">\n",
      "<caption>Tabela Técnica do Google Glass <span>junho/2016</span></caption>\n",
      "<tr><td class=\"ce\">Tela</td> <td class=\"cd\">Resolução equivalente a tela de 25\"</td></tr>\n",
      "<tr><td class=\"ce\" rowspan=\"2\">Camera</td> <td class=\"cd\"> 5MP para fotos</td></tr>\n",
      "<tr><td class=\"cd\">720p para vídeos</td></tr>\n",
      "<tr><td class=\"ce\" rowspan=\"2\">Conectividade</td> <td class=\"cd\">Wi-Fi</td></tr>\n",
      "<tr><td class=\"cd\">Bluetooth</td></tr>\n",
      "<tr><td class=\"ce\">Memória Interna</td> <td class=\"cd\">12GB</td></tr>\n",
      "</table>\n",
      "<h2>Como funciona</h2>\n",
      "<p>Praesent dapibus mattis orci ornare tempus. Sed laoreet accumsan tincidunt. Quisque fermentum dolor nunc. Nullam luctus ultricies sapien, ac facilisis felis commodo a. Duis quis nibh sapien. Sed aliquam felis vel ornare tincidunt.</p>\n",
      "<h2>O que você pode fazer com o Google Glasses</h2>\n",
      "<p>Curabitur tortor mauris, interdum sed tristique at, tincidunt nec justo. Donec rhoncus felis vel tempus faucibus. Sed venenatis consequat ante, sed fermentum ipsum faucibus sit amet. Pellentesque habitant morbi tristique senectus et netus et malesuada fames ac turpis egestas.</p>\n",
      "</article>\n",
      "<section id=\"corpo\">\n",
      "<article id=\"noticia-principal\">\n",
      "<header id=\"cabecalho-artigo\">\n",
      "<hgroup>\n",
      "<h3>Tecnologia &gt;         Inovações</h3>\n",
      "<h1>Saiba tudo sobre o Google Glass</h1>\n",
      "<h2>por Thomas William</h2>\n",
      "</hgroup>\n",
      "</header>\n",
      "<h2>O que é ?</h2>\n",
      "<p>O <span style=\"font-weight: bolder;\"> Lorem ipsum</span>  dolor sit amet, consectetur adipiscing elit. Vestibulum ullamcorper id ante vel mattis. Aenean eu egestas turpis. Maecenas id aliquet ante. Duis sagittis, eros a eleifend aliquam, lorem ipsum sodales felis, quis hendrerit massa urna non orci. Sed quis leo at eros tempus tempor. Fusce elementum massa at dui sollicitudin imperdiet. Morbi volutpat ligula in lectus ultricies, in euismod nisi sagittis. Cras a <em>suscipit libero</em>, at viverra enim. Phasellus eget dui justo. \n",
      "</p>\n",
      "<h2>Data de lançamento</h2>\n",
      "<p>Donec aliquam urna ut dui placerat porta. Nunc porta, libero nec interdum placerat, neque lacus feugiat tellus, ut iaculis purus nisi eget massa. Sed convallis nisl non nisl posuere fermentum. Cras ac ex convallis, pulvinar nibh at, pharetra sapien. Maecenas fringilla lorem at ante malesuada, et maximus dui pulvinar.</p>\n",
      "<h2>Especificações Técnicas</h2>\n",
      "<table id=\"tabelaspec\">\n",
      "<caption>Tabela Técnica do Google Glass <span>junho/2016</span></caption>\n",
      "<tr><td class=\"ce\">Tela</td> <td class=\"cd\">Resolução equivalente a tela de 25\"</td></tr>\n",
      "<tr><td class=\"ce\" rowspan=\"2\">Camera</td> <td class=\"cd\"> 5MP para fotos</td></tr>\n",
      "<tr><td class=\"cd\">720p para vídeos</td></tr>\n",
      "<tr><td class=\"ce\" rowspan=\"2\">Conectividade</td> <td class=\"cd\">Wi-Fi</td></tr>\n",
      "<tr><td class=\"cd\">Bluetooth</td></tr>\n",
      "<tr><td class=\"ce\">Memória Interna</td> <td class=\"cd\">12GB</td></tr>\n",
      "</table>\n",
      "<h2>Como funciona</h2>\n",
      "<p>Praesent dapibus mattis orci ornare tempus. Sed laoreet accumsan tincidunt. Quisque fermentum dolor nunc. Nullam luctus ultricies sapien, ac facilisis felis commodo a. Duis quis nibh sapien. Sed aliquam felis vel ornare tincidunt.</p>\n",
      "<h2>O que você pode fazer com o Google Glasses</h2>\n",
      "<p>Curabitur tortor mauris, interdum sed tristique at, tincidunt nec justo. Donec rhoncus felis vel tempus faucibus. Sed venenatis consequat ante, sed fermentum ipsum faucibus sit amet. Pellentesque habitant morbi tristique senectus et netus et malesuada fames ac turpis egestas.</p>\n",
      "</article>\n",
      "</section>\n",
      "<h2>A revolução do Google está chegando</h2>\n",
      "<h1>Google Glass</h1>\n",
      "<hgroup>\n",
      "<h1>Google Glass</h1>\n",
      "<h2>A revolução do Google está chegando</h2>\n",
      "</hgroup>\n",
      "<header id=\"cabecalho\">\n",
      "<hgroup>\n",
      "<h1>Google Glass</h1>\n",
      "<h2>A revolução do Google está chegando</h2>\n",
      "</hgroup>\n",
      "</header>\n",
      "<div id=\"interface\">\n",
      "<header id=\"cabecalho\">\n",
      "<hgroup>\n",
      "<h1>Google Glass</h1>\n",
      "<h2>A revolução do Google está chegando</h2>\n",
      "</hgroup>\n",
      "</header>\n",
      "<section id=\"corpo\">\n",
      "<article id=\"noticia-principal\">\n",
      "<header id=\"cabecalho-artigo\">\n",
      "<hgroup>\n",
      "<h3>Tecnologia &gt;         Inovações</h3>\n",
      "<h1>Saiba tudo sobre o Google Glass</h1>\n",
      "<h2>por Thomas William</h2>\n",
      "</hgroup>\n",
      "</header>\n",
      "<h2>O que é ?</h2>\n",
      "<p>O <span style=\"font-weight: bolder;\"> Lorem ipsum</span>  dolor sit amet, consectetur adipiscing elit. Vestibulum ullamcorper id ante vel mattis. Aenean eu egestas turpis. Maecenas id aliquet ante. Duis sagittis, eros a eleifend aliquam, lorem ipsum sodales felis, quis hendrerit massa urna non orci. Sed quis leo at eros tempus tempor. Fusce elementum massa at dui sollicitudin imperdiet. Morbi volutpat ligula in lectus ultricies, in euismod nisi sagittis. Cras a <em>suscipit libero</em>, at viverra enim. Phasellus eget dui justo. \n",
      "</p>\n",
      "<h2>Data de lançamento</h2>\n",
      "<p>Donec aliquam urna ut dui placerat porta. Nunc porta, libero nec interdum placerat, neque lacus feugiat tellus, ut iaculis purus nisi eget massa. Sed convallis nisl non nisl posuere fermentum. Cras ac ex convallis, pulvinar nibh at, pharetra sapien. Maecenas fringilla lorem at ante malesuada, et maximus dui pulvinar.</p>\n",
      "<h2>Especificações Técnicas</h2>\n",
      "<table id=\"tabelaspec\">\n",
      "<caption>Tabela Técnica do Google Glass <span>junho/2016</span></caption>\n",
      "<tr><td class=\"ce\">Tela</td> <td class=\"cd\">Resolução equivalente a tela de 25\"</td></tr>\n",
      "<tr><td class=\"ce\" rowspan=\"2\">Camera</td> <td class=\"cd\"> 5MP para fotos</td></tr>\n",
      "<tr><td class=\"cd\">720p para vídeos</td></tr>\n",
      "<tr><td class=\"ce\" rowspan=\"2\">Conectividade</td> <td class=\"cd\">Wi-Fi</td></tr>\n",
      "<tr><td class=\"cd\">Bluetooth</td></tr>\n",
      "<tr><td class=\"ce\">Memória Interna</td> <td class=\"cd\">12GB</td></tr>\n",
      "</table>\n",
      "<h2>Como funciona</h2>\n",
      "<p>Praesent dapibus mattis orci ornare tempus. Sed laoreet accumsan tincidunt. Quisque fermentum dolor nunc. Nullam luctus ultricies sapien, ac facilisis felis commodo a. Duis quis nibh sapien. Sed aliquam felis vel ornare tincidunt.</p>\n",
      "<h2>O que você pode fazer com o Google Glasses</h2>\n",
      "<p>Curabitur tortor mauris, interdum sed tristique at, tincidunt nec justo. Donec rhoncus felis vel tempus faucibus. Sed venenatis consequat ante, sed fermentum ipsum faucibus sit amet. Pellentesque habitant morbi tristique senectus et netus et malesuada fames ac turpis egestas.</p>\n",
      "</article>\n",
      "</section>\n",
      "<aside id=\"lateral\">\n",
      "<h1>Outras Notícias</h1>\n",
      "<h2>Vídeo mais recente</h2>\n",
      "<video controls=\"controls\" id=\"filme\" poster=\"_imagens/video-mini02.jpg\">\n",
      "<source src=\"_media/how-it-feels.mp4\" type=\"video/mp4\"/>\n",
      "<source src=\"_media/how-it-feels.webm\" type=\"video/webm\"/>\n",
      "<source src=\"_media/how-it-feels.ogv\" type=\"video/ogg\"/>\n",
      "\t\tDesculpe, mas não foi possível carregar o vídeo\n",
      "\t</video>\n",
      "<h1>Novidades</h1>\n",
      "<p>Phasellus fermentum non diam vitae ultricies. Aliquam fermentum justo eget venenatis luctus. Lorem ipsum dolor sit amet, consectetur adipiscing elit. Nullam orci lectus, molestie non elit nec, tincidunt suscipit nisi. Morbi libero mauris, sodales eu massa eget. \n",
      "\n",
      "\tPellentesque habitant morbi tristique senectus et netus et malesuada fames ac turpis egestas. Praesent id fringilla arcu. Cras nec massa ex. Integer maximus facilisis congue. Suspendisse potenti. Nunc molestie arcu a elementum ultricies.</p>\n",
      "</aside>\n",
      "<footer id=\"rodape\">\n",
      "<p>Copyright © 2013 - by Thomas William <br/>\n",
      "<a href=\"https://www.facebook.com/TheLifelongTeacher/?fref=ts\" target=\"_blank\">Facebook</a> | \n",
      "\t<a href=\"https://www.udemy.com/user/marcoscastrodesouza/\" target=\"_blank\">Udemy</a></p>\n",
      "</footer>\n",
      "</div>\n",
      "<body>\n",
      "<div id=\"interface\">\n",
      "<header id=\"cabecalho\">\n",
      "<hgroup>\n",
      "<h1>Google Glass</h1>\n",
      "<h2>A revolução do Google está chegando</h2>\n",
      "</hgroup>\n",
      "</header>\n",
      "<section id=\"corpo\">\n",
      "<article id=\"noticia-principal\">\n",
      "<header id=\"cabecalho-artigo\">\n",
      "<hgroup>\n",
      "<h3>Tecnologia &gt;         Inovações</h3>\n",
      "<h1>Saiba tudo sobre o Google Glass</h1>\n",
      "<h2>por Thomas William</h2>\n",
      "</hgroup>\n",
      "</header>\n",
      "<h2>O que é ?</h2>\n",
      "<p>O <span style=\"font-weight: bolder;\"> Lorem ipsum</span>  dolor sit amet, consectetur adipiscing elit. Vestibulum ullamcorper id ante vel mattis. Aenean eu egestas turpis. Maecenas id aliquet ante. Duis sagittis, eros a eleifend aliquam, lorem ipsum sodales felis, quis hendrerit massa urna non orci. Sed quis leo at eros tempus tempor. Fusce elementum massa at dui sollicitudin imperdiet. Morbi volutpat ligula in lectus ultricies, in euismod nisi sagittis. Cras a <em>suscipit libero</em>, at viverra enim. Phasellus eget dui justo. \n",
      "</p>\n",
      "<h2>Data de lançamento</h2>\n",
      "<p>Donec aliquam urna ut dui placerat porta. Nunc porta, libero nec interdum placerat, neque lacus feugiat tellus, ut iaculis purus nisi eget massa. Sed convallis nisl non nisl posuere fermentum. Cras ac ex convallis, pulvinar nibh at, pharetra sapien. Maecenas fringilla lorem at ante malesuada, et maximus dui pulvinar.</p>\n",
      "<h2>Especificações Técnicas</h2>\n",
      "<table id=\"tabelaspec\">\n",
      "<caption>Tabela Técnica do Google Glass <span>junho/2016</span></caption>\n",
      "<tr><td class=\"ce\">Tela</td> <td class=\"cd\">Resolução equivalente a tela de 25\"</td></tr>\n",
      "<tr><td class=\"ce\" rowspan=\"2\">Camera</td> <td class=\"cd\"> 5MP para fotos</td></tr>\n",
      "<tr><td class=\"cd\">720p para vídeos</td></tr>\n",
      "<tr><td class=\"ce\" rowspan=\"2\">Conectividade</td> <td class=\"cd\">Wi-Fi</td></tr>\n",
      "<tr><td class=\"cd\">Bluetooth</td></tr>\n",
      "<tr><td class=\"ce\">Memória Interna</td> <td class=\"cd\">12GB</td></tr>\n",
      "</table>\n",
      "<h2>Como funciona</h2>\n",
      "<p>Praesent dapibus mattis orci ornare tempus. Sed laoreet accumsan tincidunt. Quisque fermentum dolor nunc. Nullam luctus ultricies sapien, ac facilisis felis commodo a. Duis quis nibh sapien. Sed aliquam felis vel ornare tincidunt.</p>\n",
      "<h2>O que você pode fazer com o Google Glasses</h2>\n",
      "<p>Curabitur tortor mauris, interdum sed tristique at, tincidunt nec justo. Donec rhoncus felis vel tempus faucibus. Sed venenatis consequat ante, sed fermentum ipsum faucibus sit amet. Pellentesque habitant morbi tristique senectus et netus et malesuada fames ac turpis egestas.</p>\n",
      "</article>\n",
      "</section>\n",
      "<aside id=\"lateral\">\n",
      "<h1>Outras Notícias</h1>\n",
      "<h2>Vídeo mais recente</h2>\n",
      "<video controls=\"controls\" id=\"filme\" poster=\"_imagens/video-mini02.jpg\">\n",
      "<source src=\"_media/how-it-feels.mp4\" type=\"video/mp4\"/>\n",
      "<source src=\"_media/how-it-feels.webm\" type=\"video/webm\"/>\n",
      "<source src=\"_media/how-it-feels.ogv\" type=\"video/ogg\"/>\n",
      "\t\tDesculpe, mas não foi possível carregar o vídeo\n",
      "\t</video>\n",
      "<h1>Novidades</h1>\n",
      "<p>Phasellus fermentum non diam vitae ultricies. Aliquam fermentum justo eget venenatis luctus. Lorem ipsum dolor sit amet, consectetur adipiscing elit. Nullam orci lectus, molestie non elit nec, tincidunt suscipit nisi. Morbi libero mauris, sodales eu massa eget. \n",
      "\n",
      "\tPellentesque habitant morbi tristique senectus et netus et malesuada fames ac turpis egestas. Praesent id fringilla arcu. Cras nec massa ex. Integer maximus facilisis congue. Suspendisse potenti. Nunc molestie arcu a elementum ultricies.</p>\n",
      "</aside>\n",
      "<footer id=\"rodape\">\n",
      "<p>Copyright © 2013 - by Thomas William <br/>\n",
      "<a href=\"https://www.facebook.com/TheLifelongTeacher/?fref=ts\" target=\"_blank\">Facebook</a> | \n",
      "\t<a href=\"https://www.udemy.com/user/marcoscastrodesouza/\" target=\"_blank\">Udemy</a></p>\n",
      "</footer>\n",
      "</div>\n",
      "</body>\n",
      "<meta content=\"text/html; charset=utf-8\" http-equiv=\"Content-Type\"/>\n",
      "<title>Tudo Sobre Google Glass</title>\n",
      "<head>\n",
      "<title>Tudo Sobre Google Glass</title>\n",
      "<meta content=\"text/html; charset=utf-8\" http-equiv=\"Content-Type\"/>\n",
      "</head>\n",
      "<html lang=\"pt-br\">\n",
      "<head>\n",
      "<title>Tudo Sobre Google Glass</title>\n",
      "<meta content=\"text/html; charset=utf-8\" http-equiv=\"Content-Type\"/>\n",
      "</head>\n",
      "<body>\n",
      "<div id=\"interface\">\n",
      "<header id=\"cabecalho\">\n",
      "<hgroup>\n",
      "<h1>Google Glass</h1>\n",
      "<h2>A revolução do Google está chegando</h2>\n",
      "</hgroup>\n",
      "</header>\n",
      "<section id=\"corpo\">\n",
      "<article id=\"noticia-principal\">\n",
      "<header id=\"cabecalho-artigo\">\n",
      "<hgroup>\n",
      "<h3>Tecnologia &gt;         Inovações</h3>\n",
      "<h1>Saiba tudo sobre o Google Glass</h1>\n",
      "<h2>por Thomas William</h2>\n",
      "</hgroup>\n",
      "</header>\n",
      "<h2>O que é ?</h2>\n",
      "<p>O <span style=\"font-weight: bolder;\"> Lorem ipsum</span>  dolor sit amet, consectetur adipiscing elit. Vestibulum ullamcorper id ante vel mattis. Aenean eu egestas turpis. Maecenas id aliquet ante. Duis sagittis, eros a eleifend aliquam, lorem ipsum sodales felis, quis hendrerit massa urna non orci. Sed quis leo at eros tempus tempor. Fusce elementum massa at dui sollicitudin imperdiet. Morbi volutpat ligula in lectus ultricies, in euismod nisi sagittis. Cras a <em>suscipit libero</em>, at viverra enim. Phasellus eget dui justo. \n",
      "</p>\n",
      "<h2>Data de lançamento</h2>\n",
      "<p>Donec aliquam urna ut dui placerat porta. Nunc porta, libero nec interdum placerat, neque lacus feugiat tellus, ut iaculis purus nisi eget massa. Sed convallis nisl non nisl posuere fermentum. Cras ac ex convallis, pulvinar nibh at, pharetra sapien. Maecenas fringilla lorem at ante malesuada, et maximus dui pulvinar.</p>\n",
      "<h2>Especificações Técnicas</h2>\n",
      "<table id=\"tabelaspec\">\n",
      "<caption>Tabela Técnica do Google Glass <span>junho/2016</span></caption>\n",
      "<tr><td class=\"ce\">Tela</td> <td class=\"cd\">Resolução equivalente a tela de 25\"</td></tr>\n",
      "<tr><td class=\"ce\" rowspan=\"2\">Camera</td> <td class=\"cd\"> 5MP para fotos</td></tr>\n",
      "<tr><td class=\"cd\">720p para vídeos</td></tr>\n",
      "<tr><td class=\"ce\" rowspan=\"2\">Conectividade</td> <td class=\"cd\">Wi-Fi</td></tr>\n",
      "<tr><td class=\"cd\">Bluetooth</td></tr>\n",
      "<tr><td class=\"ce\">Memória Interna</td> <td class=\"cd\">12GB</td></tr>\n",
      "</table>\n",
      "<h2>Como funciona</h2>\n",
      "<p>Praesent dapibus mattis orci ornare tempus. Sed laoreet accumsan tincidunt. Quisque fermentum dolor nunc. Nullam luctus ultricies sapien, ac facilisis felis commodo a. Duis quis nibh sapien. Sed aliquam felis vel ornare tincidunt.</p>\n",
      "<h2>O que você pode fazer com o Google Glasses</h2>\n",
      "<p>Curabitur tortor mauris, interdum sed tristique at, tincidunt nec justo. Donec rhoncus felis vel tempus faucibus. Sed venenatis consequat ante, sed fermentum ipsum faucibus sit amet. Pellentesque habitant morbi tristique senectus et netus et malesuada fames ac turpis egestas.</p>\n",
      "</article>\n",
      "</section>\n",
      "<aside id=\"lateral\">\n",
      "<h1>Outras Notícias</h1>\n",
      "<h2>Vídeo mais recente</h2>\n",
      "<video controls=\"controls\" id=\"filme\" poster=\"_imagens/video-mini02.jpg\">\n",
      "<source src=\"_media/how-it-feels.mp4\" type=\"video/mp4\"/>\n",
      "<source src=\"_media/how-it-feels.webm\" type=\"video/webm\"/>\n",
      "<source src=\"_media/how-it-feels.ogv\" type=\"video/ogg\"/>\n",
      "\t\tDesculpe, mas não foi possível carregar o vídeo\n",
      "\t</video>\n",
      "<h1>Novidades</h1>\n",
      "<p>Phasellus fermentum non diam vitae ultricies. Aliquam fermentum justo eget venenatis luctus. Lorem ipsum dolor sit amet, consectetur adipiscing elit. Nullam orci lectus, molestie non elit nec, tincidunt suscipit nisi. Morbi libero mauris, sodales eu massa eget. \n",
      "\n",
      "\tPellentesque habitant morbi tristique senectus et netus et malesuada fames ac turpis egestas. Praesent id fringilla arcu. Cras nec massa ex. Integer maximus facilisis congue. Suspendisse potenti. Nunc molestie arcu a elementum ultricies.</p>\n",
      "</aside>\n",
      "<footer id=\"rodape\">\n",
      "<p>Copyright © 2013 - by Thomas William <br/>\n",
      "<a href=\"https://www.facebook.com/TheLifelongTeacher/?fref=ts\" target=\"_blank\">Facebook</a> | \n",
      "\t<a href=\"https://www.udemy.com/user/marcoscastrodesouza/\" target=\"_blank\">Udemy</a></p>\n",
      "</footer>\n",
      "</div>\n",
      "</body>\n",
      "</html>\n"
     ]
    }
   ],
   "source": [
    "#iterando nos elementos\n",
    "for it in site02.footer.previous_elements:\n",
    "    if isinstance(it, Tag): #se for uma tag\n",
    "        print(repr(it))"
   ]
  },
  {
   "cell_type": "markdown",
   "metadata": {},
   "source": [
    "## buscando elementos com find"
   ]
  },
  {
   "cell_type": "code",
   "execution_count": 438,
   "metadata": {},
   "outputs": [],
   "source": [
    "with open('arquivo02.html','r') as file:\n",
    "    site02 = BeautifulSoup(file, 'lxml')"
   ]
  },
  {
   "cell_type": "code",
   "execution_count": 441,
   "metadata": {},
   "outputs": [
    {
     "name": "stdout",
     "output_type": "stream",
     "text": [
      "<h1>Google Glass</h1>\n"
     ]
    }
   ],
   "source": [
    "print(site02.find('h1'))"
   ]
  },
  {
   "cell_type": "code",
   "execution_count": 450,
   "metadata": {},
   "outputs": [
    {
     "name": "stdout",
     "output_type": "stream",
     "text": [
      "Google Glass\n"
     ]
    }
   ],
   "source": [
    "tag = site02.find(string='Google Glass')\n",
    "print(tag)"
   ]
  },
  {
   "cell_type": "code",
   "execution_count": 453,
   "metadata": {},
   "outputs": [
    {
     "name": "stdout",
     "output_type": "stream",
     "text": [
      "<table id=\"tabelaspec\">\n",
      "<caption>Tabela Técnica do Google Glass <span>junho/2016</span></caption>\n",
      "<tr><td class=\"ce\">Tela</td> <td class=\"cd\">Resolução equivalente a tela de 25\"</td></tr>\n",
      "<tr><td class=\"ce\" rowspan=\"2\">Camera</td> <td class=\"cd\"> 5MP para fotos</td></tr>\n",
      "<tr><td class=\"cd\">720p para vídeos</td></tr>\n",
      "<tr><td class=\"ce\" rowspan=\"2\">Conectividade</td> <td class=\"cd\">Wi-Fi</td></tr>\n",
      "<tr><td class=\"cd\">Bluetooth</td></tr>\n",
      "<tr><td class=\"ce\">Memória Interna</td> <td class=\"cd\">12GB</td></tr>\n",
      "</table>\n"
     ]
    }
   ],
   "source": [
    "#buscando pelo id\n",
    "tagId = site02.find(id='tabelaspec')\n",
    "print(tagId)"
   ]
  },
  {
   "cell_type": "code",
   "execution_count": 455,
   "metadata": {},
   "outputs": [
    {
     "data": {
      "text/plain": [
       "[<td class=\"ce\">Tela</td>,\n",
       " <td class=\"ce\" rowspan=\"2\">Camera</td>,\n",
       " <td class=\"ce\" rowspan=\"2\">Conectividade</td>,\n",
       " <td class=\"ce\">Memória Interna</td>]"
      ]
     },
     "execution_count": 455,
     "metadata": {},
     "output_type": "execute_result"
    }
   ],
   "source": [
    "site02.find_all(attrs={'class':'ce'})"
   ]
  },
  {
   "cell_type": "code",
   "execution_count": 462,
   "metadata": {},
   "outputs": [
    {
     "data": {
      "text/plain": [
       "[<td class=\"cd\">Resolução equivalente a tela de 25\"</td>,\n",
       " <td class=\"cd\"> 5MP para fotos</td>,\n",
       " <td class=\"cd\">720p para vídeos</td>,\n",
       " <td class=\"cd\">Wi-Fi</td>,\n",
       " <td class=\"cd\">Bluetooth</td>,\n",
       " <td class=\"cd\">12GB</td>]"
      ]
     },
     "execution_count": 462,
     "metadata": {},
     "output_type": "execute_result"
    }
   ],
   "source": [
    "site02.find_all(class_='cd')"
   ]
  },
  {
   "cell_type": "code",
   "execution_count": 467,
   "metadata": {},
   "outputs": [
    {
     "data": {
      "text/plain": [
       "[<td class=\"ce\">Tela</td>,\n",
       " <td class=\"ce\" rowspan=\"2\">Camera</td>,\n",
       " <td class=\"ce\" rowspan=\"2\">Conectividade</td>,\n",
       " <td class=\"ce\">Memória Interna</td>]"
      ]
     },
     "execution_count": 467,
     "metadata": {},
     "output_type": "execute_result"
    }
   ],
   "source": [
    "site02.find_all('td',attrs={'class':'ce'}) #tag 'td' com a classe 'ce'"
   ]
  },
  {
   "cell_type": "code",
   "execution_count": 470,
   "metadata": {},
   "outputs": [],
   "source": [
    "with open('arquivo04.html','r') as arquivo:\n",
    "    site04 = BeautifulSoup(arquivo,'lxml')"
   ]
  },
  {
   "cell_type": "code",
   "execution_count": 483,
   "metadata": {},
   "outputs": [],
   "source": [
    "def is_secondary_consumers(tag):\n",
    "    return tag.has_attr('id') and tag.get('id') == 'secondaryconsumers'"
   ]
  },
  {
   "cell_type": "code",
   "execution_count": 484,
   "metadata": {},
   "outputs": [
    {
     "name": "stdout",
     "output_type": "stream",
     "text": [
      "fox\n"
     ]
    }
   ],
   "source": [
    "secondary_consumer = site04.find(is_secondary_consumers)\n",
    "print (secondary_consumer.li.div.string)"
   ]
  },
  {
   "cell_type": "code",
   "execution_count": 497,
   "metadata": {},
   "outputs": [
    {
     "data": {
      "text/plain": [
       "True"
      ]
     },
     "execution_count": 497,
     "metadata": {},
     "output_type": "execute_result"
    }
   ],
   "source": [
    "is_secondary_consumers(site04.find(id='secondaryconsumers'))"
   ]
  },
  {
   "cell_type": "markdown",
   "metadata": {},
   "source": [
    "## buscando elementos com find_all"
   ]
  },
  {
   "cell_type": "code",
   "execution_count": 498,
   "metadata": {},
   "outputs": [],
   "source": [
    "with open('arquivo03.html','r') as arquivo02:\n",
    "    site03 = BeautifulSoup(arquivo02,'lxml')"
   ]
  },
  {
   "cell_type": "code",
   "execution_count": 503,
   "metadata": {},
   "outputs": [
    {
     "data": {
      "text/plain": [
       "[<ul id=\"producers\">\n",
       " <li class=\"producerlist\">\n",
       " <div class=\"name\">plants</div>\n",
       " <div class=\"number\">100000</div>\n",
       " </li>\n",
       " <li class=\"producerlist\">\n",
       " <div class=\"name\">algae</div>\n",
       " <div class=\"number\">100000</div>\n",
       " </li>\n",
       " </ul>, <ul id=\"primaryconsumers\">\n",
       " <li class=\"primaryconsumerlist\">\n",
       " <div class=\"name\">deer</div>\n",
       " <div class=\"number\">1000</div>\n",
       " </li>\n",
       " <li class=\"primaryconsumerlist\">\n",
       " <div class=\"name\">rabbit</div>\n",
       " <div class=\"number\">2000</div>\n",
       " </li>\n",
       " </ul>, <ul id=\"secondaryconsumers\">\n",
       " <li class=\"secondaryconsumerlist\">\n",
       " <div class=\"name\">fox</div>\n",
       " <div class=\"number\">100</div>\n",
       " </li>\n",
       " <li class=\"secondaryconsumerlist\">\n",
       " <div class=\"name\">bear</div>\n",
       " \t\t\t\t[ 28 ]\n",
       " \t\t\t\twww.it-ebooks.infoChapter 3\n",
       " \t\t\t\t<div class=\"number\">100</div>\n",
       " </li>\n",
       " </ul>, <ul id=\"tertiaryconsumers\">\n",
       " <li class=\"tertiaryconsumerlist\">\n",
       " <div class=\"name\">lion</div>\n",
       " <div class=\"number\">80</div>\n",
       " </li>\n",
       " <li class=\"tertiaryconsumerlist\">\n",
       " <div class=\"name\">tiger</div>\n",
       " <div class=\"number\">50</div>\n",
       " </li>\n",
       " </ul>, <ul id=\"quaternaryconsumers\">\n",
       " <li class=\"quaternaryconsumerlist\">\n",
       " <div class=\"name animal\">tutle</div>\n",
       " <div class=\"number\">1000</div>\n",
       " </li>\n",
       " <li class=\"quaternaryconsumerlist\">\n",
       " <div class=\"name animal\">giraffe</div>\n",
       " <div class=\"number\">100</div>\n",
       " </li>\n",
       " </ul>]"
      ]
     },
     "execution_count": 503,
     "metadata": {},
     "output_type": "execute_result"
    }
   ],
   "source": [
    "site03.find_all('ul')"
   ]
  },
  {
   "cell_type": "code",
   "execution_count": 510,
   "metadata": {},
   "outputs": [
    {
     "data": {
      "text/plain": [
       "[<div class=\"ecopyramid\">\n",
       " <ul id=\"producers\">\n",
       " <li class=\"producerlist\">\n",
       " <div class=\"name\">plants</div>\n",
       " <div class=\"number\">100000</div>\n",
       " </li>\n",
       " <li class=\"producerlist\">\n",
       " <div class=\"name\">algae</div>\n",
       " <div class=\"number\">100000</div>\n",
       " </li>\n",
       " </ul>\n",
       " <ul id=\"primaryconsumers\">\n",
       " <li class=\"primaryconsumerlist\">\n",
       " <div class=\"name\">deer</div>\n",
       " <div class=\"number\">1000</div>\n",
       " </li>\n",
       " <li class=\"primaryconsumerlist\">\n",
       " <div class=\"name\">rabbit</div>\n",
       " <div class=\"number\">2000</div>\n",
       " </li>\n",
       " </ul>\n",
       " <ul id=\"secondaryconsumers\">\n",
       " <li class=\"secondaryconsumerlist\">\n",
       " <div class=\"name\">fox</div>\n",
       " <div class=\"number\">100</div>\n",
       " </li>\n",
       " <li class=\"secondaryconsumerlist\">\n",
       " <div class=\"name\">bear</div>\n",
       " \t\t\t\t[ 28 ]\n",
       " \t\t\t\twww.it-ebooks.infoChapter 3\n",
       " \t\t\t\t<div class=\"number\">100</div>\n",
       " </li>\n",
       " </ul>\n",
       " <ul id=\"tertiaryconsumers\">\n",
       " <li class=\"tertiaryconsumerlist\">\n",
       " <div class=\"name\">lion</div>\n",
       " <div class=\"number\">80</div>\n",
       " </li>\n",
       " <li class=\"tertiaryconsumerlist\">\n",
       " <div class=\"name\">tiger</div>\n",
       " <div class=\"number\">50</div>\n",
       " </li>\n",
       " </ul>\n",
       " <ul id=\"quaternaryconsumers\">\n",
       " <li class=\"quaternaryconsumerlist\">\n",
       " <div class=\"name animal\">tutle</div>\n",
       " <div class=\"number\">1000</div>\n",
       " </li>\n",
       " <li class=\"quaternaryconsumerlist\">\n",
       " <div class=\"name animal\">giraffe</div>\n",
       " <div class=\"number\">100</div>\n",
       " </li>\n",
       " </ul>\n",
       " </div>, <li class=\"producerlist\">\n",
       " <div class=\"name\">plants</div>\n",
       " <div class=\"number\">100000</div>\n",
       " </li>, <div class=\"name\">plants</div>, <div class=\"number\">100000</div>, <li class=\"producerlist\">\n",
       " <div class=\"name\">algae</div>\n",
       " <div class=\"number\">100000</div>\n",
       " </li>, <div class=\"name\">algae</div>, <div class=\"number\">100000</div>, <li class=\"primaryconsumerlist\">\n",
       " <div class=\"name\">deer</div>\n",
       " <div class=\"number\">1000</div>\n",
       " </li>, <div class=\"name\">deer</div>, <div class=\"number\">1000</div>, <li class=\"primaryconsumerlist\">\n",
       " <div class=\"name\">rabbit</div>\n",
       " <div class=\"number\">2000</div>\n",
       " </li>, <div class=\"name\">rabbit</div>, <div class=\"number\">2000</div>, <li class=\"secondaryconsumerlist\">\n",
       " <div class=\"name\">fox</div>\n",
       " <div class=\"number\">100</div>\n",
       " </li>, <div class=\"name\">fox</div>, <div class=\"number\">100</div>, <li class=\"secondaryconsumerlist\">\n",
       " <div class=\"name\">bear</div>\n",
       " \t\t\t\t[ 28 ]\n",
       " \t\t\t\twww.it-ebooks.infoChapter 3\n",
       " \t\t\t\t<div class=\"number\">100</div>\n",
       " </li>, <div class=\"name\">bear</div>, <div class=\"number\">100</div>, <li class=\"tertiaryconsumerlist\">\n",
       " <div class=\"name\">lion</div>\n",
       " <div class=\"number\">80</div>\n",
       " </li>, <div class=\"name\">lion</div>, <div class=\"number\">80</div>, <li class=\"tertiaryconsumerlist\">\n",
       " <div class=\"name\">tiger</div>\n",
       " <div class=\"number\">50</div>\n",
       " </li>, <div class=\"name\">tiger</div>, <div class=\"number\">50</div>, <li class=\"quaternaryconsumerlist\">\n",
       " <div class=\"name animal\">tutle</div>\n",
       " <div class=\"number\">1000</div>\n",
       " </li>, <div class=\"name animal\">tutle</div>, <div class=\"number\">1000</div>, <li class=\"quaternaryconsumerlist\">\n",
       " <div class=\"name animal\">giraffe</div>\n",
       " <div class=\"number\">100</div>\n",
       " </li>, <div class=\"name animal\">giraffe</div>, <div class=\"number\">100</div>]"
      ]
     },
     "execution_count": 510,
     "metadata": {},
     "output_type": "execute_result"
    }
   ],
   "source": [
    "site03.find_all(['div','li'])"
   ]
  },
  {
   "cell_type": "code",
   "execution_count": 515,
   "metadata": {},
   "outputs": [
    {
     "data": {
      "text/plain": [
       "[<li class=\"producerlist\">\n",
       " <div class=\"name\">plants</div>\n",
       " <div class=\"number\">100000</div>\n",
       " </li>]"
      ]
     },
     "execution_count": 515,
     "metadata": {},
     "output_type": "execute_result"
    }
   ],
   "source": [
    "site03.find_all('li', limit=1) #limita a quantidade em no maximo duas ocorrencias"
   ]
  },
  {
   "cell_type": "code",
   "execution_count": 517,
   "metadata": {},
   "outputs": [
    {
     "data": {
      "text/plain": [
       "['lion']"
      ]
     },
     "execution_count": 517,
     "metadata": {},
     "output_type": "execute_result"
    }
   ],
   "source": [
    "#buscando por uma string\n",
    "site03.find_all(string='lion')"
   ]
  },
  {
   "cell_type": "code",
   "execution_count": 523,
   "metadata": {},
   "outputs": [
    {
     "name": "stdout",
     "output_type": "stream",
     "text": [
      "['\\n', '\\n', '\\n', '\\n', '\\n', 'plants', '\\n', '100000', '\\n', '\\n', '\\n', 'algae', '\\n', '100000', '\\n', '\\n', '\\n', '\\n', '\\n', 'deer', '\\n', '1000', '\\n', '\\n', '\\n', 'rabbit', '\\n', '2000', '\\n', '\\n', '\\n', '\\n', '\\n', 'fox', '\\n', '100', '\\n', '\\n', '\\n', 'bear', '\\n\\t\\t\\t\\t[ 28 ]\\n\\t\\t\\t\\twww.it-ebooks.infoChapter 3\\n\\t\\t\\t\\t', '100', '\\n', '\\n', '\\n', '\\n', '\\n', 'lion', '\\n', '80', '\\n', '\\n', '\\n', 'tiger', '\\n', '50', '\\n', '\\n', '\\n', '\\n', '\\n', 'tutle', '\\n', '1000', '\\n', '\\n', '\\n', 'giraffe', '\\n', '100', '\\n', '\\n', '\\n', '\\n', '\\n']\n"
     ]
    }
   ],
   "source": [
    "#buscando por uma string\n",
    "print(repr(site03.find_all(string=True)))"
   ]
  },
  {
   "cell_type": "code",
   "execution_count": 525,
   "metadata": {},
   "outputs": [
    {
     "data": {
      "text/plain": [
       "['100000', '100000', '100', '100', '100']"
      ]
     },
     "execution_count": 525,
     "metadata": {},
     "output_type": "execute_result"
    }
   ],
   "source": [
    "#buscando por lista de strings\n",
    "site03.find_all(string=['100','100000'])"
   ]
  },
  {
   "cell_type": "code",
   "execution_count": 527,
   "metadata": {},
   "outputs": [
    {
     "data": {
      "text/plain": [
       "[<li class=\"producerlist\">\n",
       " <div class=\"name\">plants</div>\n",
       " <div class=\"number\">100000</div>\n",
       " </li>, <li class=\"producerlist\">\n",
       " <div class=\"name\">algae</div>\n",
       " <div class=\"number\">100000</div>\n",
       " </li>, <li class=\"tertiaryconsumerlist\">\n",
       " <div class=\"name\">lion</div>\n",
       " <div class=\"number\">80</div>\n",
       " </li>, <li class=\"tertiaryconsumerlist\">\n",
       " <div class=\"name\">tiger</div>\n",
       " <div class=\"number\">50</div>\n",
       " </li>]"
      ]
     },
     "execution_count": 527,
     "metadata": {},
     "output_type": "execute_result"
    }
   ],
   "source": [
    "#buscando por lista de strings\n",
    "site03.find_all(class_=['tertiaryconsumerlist','producerlist'])"
   ]
  },
  {
   "cell_type": "code",
   "execution_count": 529,
   "metadata": {},
   "outputs": [
    {
     "data": {
      "text/plain": [
       "[<div class=\"name\">plants</div>,\n",
       " <div class=\"number\">100000</div>,\n",
       " <div class=\"name\">algae</div>,\n",
       " <div class=\"number\">100000</div>]"
      ]
     },
     "execution_count": 529,
     "metadata": {},
     "output_type": "execute_result"
    }
   ],
   "source": [
    "site03.ul.find_all('div')"
   ]
  },
  {
   "cell_type": "code",
   "execution_count": 530,
   "metadata": {},
   "outputs": [
    {
     "data": {
      "text/plain": [
       "[<div class=\"name\">plants</div>,\n",
       " <div class=\"name\">algae</div>,\n",
       " <div class=\"name\">deer</div>,\n",
       " <div class=\"name\">rabbit</div>,\n",
       " <div class=\"name\">fox</div>,\n",
       " <div class=\"name\">bear</div>,\n",
       " <div class=\"name\">lion</div>,\n",
       " <div class=\"name\">tiger</div>,\n",
       " <div class=\"name animal\">tutle</div>,\n",
       " <div class=\"name animal\">giraffe</div>]"
      ]
     },
     "execution_count": 530,
     "metadata": {},
     "output_type": "execute_result"
    }
   ],
   "source": [
    "site03.find_all('div', class_='name')"
   ]
  },
  {
   "cell_type": "markdown",
   "metadata": {},
   "source": [
    "## buscando elementos com find_parent e find_parents"
   ]
  },
  {
   "cell_type": "code",
   "execution_count": 549,
   "metadata": {},
   "outputs": [
    {
     "name": "stdout",
     "output_type": "stream",
     "text": [
      "<li class=\"primaryconsumerlist\">\n",
      "<div class=\"name\">deer</div>\n",
      "<div class=\"number\">1000</div>\n",
      "</li>\n"
     ]
    }
   ],
   "source": [
    "producers = site04.find_all(class_='primaryconsumerlist')\n",
    "#print(producers)\n",
    "print(producers[0])"
   ]
  },
  {
   "cell_type": "code",
   "execution_count": 552,
   "metadata": {},
   "outputs": [
    {
     "data": {
      "text/plain": [
       "[<ul id=\"primaryconsumers\">\n",
       " <li class=\"primaryconsumerlist\">\n",
       " <div class=\"name\">deer</div>\n",
       " <div class=\"number\">1000</div>\n",
       " </li>\n",
       " <li class=\"primaryconsumerlist\">\n",
       " <div class=\"name\">rabbit</div>\n",
       " <div class=\"number\">2000</div>\n",
       " </li>\n",
       " </ul>, <ul id=\"parent_producers\">\n",
       " <li class=\"parent_producerlist\">\n",
       " <ul id=\"producers\">\n",
       " <li class=\"producerlist\">\n",
       " <div class=\"name\">plants</div>\n",
       " <div class=\"number\">100000</div>\n",
       " </li>\n",
       " <li class=\"producerlist\">\n",
       " <div class=\"name\">algae</div>\n",
       " <div class=\"number\">100000</div>\n",
       " </li>\n",
       " </ul>\n",
       " <ul id=\"primaryconsumers\">\n",
       " <li class=\"primaryconsumerlist\">\n",
       " <div class=\"name\">deer</div>\n",
       " <div class=\"number\">1000</div>\n",
       " </li>\n",
       " <li class=\"primaryconsumerlist\">\n",
       " <div class=\"name\">rabbit</div>\n",
       " <div class=\"number\">2000</div>\n",
       " </li>\n",
       " </ul>\n",
       " <ul id=\"secondaryconsumers\">\n",
       " <li class=\"secondaryconsumerlist\">\n",
       " <div class=\"name\">fox</div>\n",
       " <div class=\"number\">100</div>\n",
       " </li>\n",
       " <li class=\"secondaryconsumerlist\">\n",
       " <div class=\"name\">bear</div>\n",
       " \t\t\t\t\t\t[ 28 ]\n",
       " \t\t\t\t\t\twww.it-ebooks.infoChapter 3\n",
       " \t\t\t\t\t\t<div class=\"number\">100</div>\n",
       " </li>\n",
       " </ul>\n",
       " <ul id=\"tertiaryconsumers\">\n",
       " <li class=\"tertiaryconsumerlist\">\n",
       " <div class=\"name\">lion</div>\n",
       " <div class=\"number\">80</div>\n",
       " </li>\n",
       " <li class=\"tertiaryconsumerlist\">\n",
       " <div class=\"name\">tiger</div>\n",
       " <div class=\"number\">50</div>\n",
       " </li>\n",
       " </ul>\n",
       " <ul id=\"quaternaryconsumers\">\n",
       " <li class=\"quaternaryconsumerlist\">\n",
       " <div class=\"name animal\">tutle</div>\n",
       " <div class=\"number\">1000</div>\n",
       " </li>\n",
       " <li class=\"quaternaryconsumerlist\">\n",
       " <div class=\"name animal\">giraffe</div>\n",
       " <div class=\"number\">100</div>\n",
       " </li>\n",
       " </ul>\n",
       " </li>\n",
       " </ul>]"
      ]
     },
     "execution_count": 552,
     "metadata": {},
     "output_type": "execute_result"
    }
   ],
   "source": [
    "producers[0].find_parents('ul')"
   ]
  },
  {
   "cell_type": "code",
   "execution_count": 553,
   "metadata": {},
   "outputs": [
    {
     "data": {
      "text/plain": [
       "<ul id=\"primaryconsumers\">\n",
       "<li class=\"primaryconsumerlist\">\n",
       "<div class=\"name\">deer</div>\n",
       "<div class=\"number\">1000</div>\n",
       "</li>\n",
       "<li class=\"primaryconsumerlist\">\n",
       "<div class=\"name\">rabbit</div>\n",
       "<div class=\"number\">2000</div>\n",
       "</li>\n",
       "</ul>"
      ]
     },
     "execution_count": 553,
     "metadata": {},
     "output_type": "execute_result"
    }
   ],
   "source": [
    "producers[0].find_parent('ul')"
   ]
  },
  {
   "cell_type": "markdown",
   "metadata": {},
   "source": [
    "## buscando irmãos"
   ]
  },
  {
   "cell_type": "code",
   "execution_count": 556,
   "metadata": {},
   "outputs": [],
   "source": [
    "producers = site04.find(id='producers')"
   ]
  },
  {
   "cell_type": "code",
   "execution_count": 561,
   "metadata": {},
   "outputs": [
    {
     "name": "stdout",
     "output_type": "stream",
     "text": [
      "<ul id=\"primaryconsumers\">\n",
      "<li class=\"primaryconsumerlist\">\n",
      "<div class=\"name\">deer</div>\n",
      "<div class=\"number\">1000</div>\n",
      "</li>\n",
      "<li class=\"primaryconsumerlist\">\n",
      "<div class=\"name\">rabbit</div>\n",
      "<div class=\"number\">2000</div>\n",
      "</li>\n",
      "</ul>\n"
     ]
    }
   ],
   "source": [
    "#proximo irmao na arvore\n",
    "next_sibling = producers.find_next_sibling()\n",
    "print(next_sibling)"
   ]
  },
  {
   "cell_type": "code",
   "execution_count": 562,
   "metadata": {},
   "outputs": [
    {
     "name": "stdout",
     "output_type": "stream",
     "text": [
      "[<ul id=\"primaryconsumers\">\n",
      "<li class=\"primaryconsumerlist\">\n",
      "<div class=\"name\">deer</div>\n",
      "<div class=\"number\">1000</div>\n",
      "</li>\n",
      "<li class=\"primaryconsumerlist\">\n",
      "<div class=\"name\">rabbit</div>\n",
      "<div class=\"number\">2000</div>\n",
      "</li>\n",
      "</ul>, <ul id=\"secondaryconsumers\">\n",
      "<li class=\"secondaryconsumerlist\">\n",
      "<div class=\"name\">fox</div>\n",
      "<div class=\"number\">100</div>\n",
      "</li>\n",
      "<li class=\"secondaryconsumerlist\">\n",
      "<div class=\"name\">bear</div>\n",
      "\t\t\t\t\t\t[ 28 ]\n",
      "\t\t\t\t\t\twww.it-ebooks.infoChapter 3\n",
      "\t\t\t\t\t\t<div class=\"number\">100</div>\n",
      "</li>\n",
      "</ul>, <ul id=\"tertiaryconsumers\">\n",
      "<li class=\"tertiaryconsumerlist\">\n",
      "<div class=\"name\">lion</div>\n",
      "<div class=\"number\">80</div>\n",
      "</li>\n",
      "<li class=\"tertiaryconsumerlist\">\n",
      "<div class=\"name\">tiger</div>\n",
      "<div class=\"number\">50</div>\n",
      "</li>\n",
      "</ul>, <ul id=\"quaternaryconsumers\">\n",
      "<li class=\"quaternaryconsumerlist\">\n",
      "<div class=\"name animal\">tutle</div>\n",
      "<div class=\"number\">1000</div>\n",
      "</li>\n",
      "<li class=\"quaternaryconsumerlist\">\n",
      "<div class=\"name animal\">giraffe</div>\n",
      "<div class=\"number\">100</div>\n",
      "</li>\n",
      "</ul>]\n"
     ]
    }
   ],
   "source": [
    "#todos os irmaos\n",
    "next_siblings = producers.find_next_siblings()\n",
    "print(next_siblings)"
   ]
  },
  {
   "cell_type": "code",
   "execution_count": 565,
   "metadata": {},
   "outputs": [
    {
     "name": "stdout",
     "output_type": "stream",
     "text": [
      "<ul id=\"tertiaryconsumers\">\n",
      "<li class=\"tertiaryconsumerlist\">\n",
      "<div class=\"name\">lion</div>\n",
      "<div class=\"number\">80</div>\n",
      "</li>\n",
      "<li class=\"tertiaryconsumerlist\">\n",
      "<div class=\"name\">tiger</div>\n",
      "<div class=\"number\">50</div>\n",
      "</li>\n",
      "</ul>\n"
     ]
    }
   ],
   "source": [
    "#primeiro irmao anterior\n",
    "producers = site04.find(id='quaternaryconsumers')\n",
    "previous_sibling = producers.findPreviousSibling()\n",
    "print (previous_sibling)"
   ]
  },
  {
   "cell_type": "code",
   "execution_count": 566,
   "metadata": {},
   "outputs": [
    {
     "name": "stdout",
     "output_type": "stream",
     "text": [
      "[<ul id=\"tertiaryconsumers\">\n",
      "<li class=\"tertiaryconsumerlist\">\n",
      "<div class=\"name\">lion</div>\n",
      "<div class=\"number\">80</div>\n",
      "</li>\n",
      "<li class=\"tertiaryconsumerlist\">\n",
      "<div class=\"name\">tiger</div>\n",
      "<div class=\"number\">50</div>\n",
      "</li>\n",
      "</ul>, <ul id=\"secondaryconsumers\">\n",
      "<li class=\"secondaryconsumerlist\">\n",
      "<div class=\"name\">fox</div>\n",
      "<div class=\"number\">100</div>\n",
      "</li>\n",
      "<li class=\"secondaryconsumerlist\">\n",
      "<div class=\"name\">bear</div>\n",
      "\t\t\t\t\t\t[ 28 ]\n",
      "\t\t\t\t\t\twww.it-ebooks.infoChapter 3\n",
      "\t\t\t\t\t\t<div class=\"number\">100</div>\n",
      "</li>\n",
      "</ul>, <ul id=\"primaryconsumers\">\n",
      "<li class=\"primaryconsumerlist\">\n",
      "<div class=\"name\">deer</div>\n",
      "<div class=\"number\">1000</div>\n",
      "</li>\n",
      "<li class=\"primaryconsumerlist\">\n",
      "<div class=\"name\">rabbit</div>\n",
      "<div class=\"number\">2000</div>\n",
      "</li>\n",
      "</ul>, <ul id=\"producers\">\n",
      "<li class=\"producerlist\">\n",
      "<div class=\"name\">plants</div>\n",
      "<div class=\"number\">100000</div>\n",
      "</li>\n",
      "<li class=\"producerlist\">\n",
      "<div class=\"name\">algae</div>\n",
      "<div class=\"number\">100000</div>\n",
      "</li>\n",
      "</ul>]\n"
     ]
    }
   ],
   "source": [
    "#todos os irmaos anteriores\n",
    "producers = site04.find(id='quaternaryconsumers')\n",
    "previous_siblings = producers.findPreviousSiblings()\n",
    "print (previous_siblings)"
   ]
  },
  {
   "cell_type": "markdown",
   "metadata": {},
   "source": [
    "## buscando o proximo elemento e o anterior"
   ]
  },
  {
   "cell_type": "code",
   "execution_count": 570,
   "metadata": {},
   "outputs": [],
   "source": [
    "producers = site03.find(id='producers')"
   ]
  },
  {
   "cell_type": "code",
   "execution_count": 573,
   "metadata": {},
   "outputs": [
    {
     "data": {
      "text/plain": [
       "<li class=\"producerlist\">\n",
       "<div class=\"name\">plants</div>\n",
       "<div class=\"number\">100000</div>\n",
       "</li>"
      ]
     },
     "execution_count": 573,
     "metadata": {},
     "output_type": "execute_result"
    }
   ],
   "source": [
    "producers.findNext() #proximo elemento na hierarquia"
   ]
  },
  {
   "cell_type": "code",
   "execution_count": 577,
   "metadata": {},
   "outputs": [],
   "source": [
    "prod = producers.findAllNext() #todos os elementos abaixo na hierarquia"
   ]
  },
  {
   "cell_type": "code",
   "execution_count": 582,
   "metadata": {},
   "outputs": [
    {
     "data": {
      "text/plain": [
       "34"
      ]
     },
     "execution_count": 582,
     "metadata": {},
     "output_type": "execute_result"
    }
   ],
   "source": [
    "len(list(prod))"
   ]
  },
  {
   "cell_type": "code",
   "execution_count": 584,
   "metadata": {},
   "outputs": [
    {
     "data": {
      "text/plain": [
       "<li class=\"producerlist\">\n",
       "<div class=\"name\">plants</div>\n",
       "<div class=\"number\">100000</div>\n",
       "</li>"
      ]
     },
     "execution_count": 584,
     "metadata": {},
     "output_type": "execute_result"
    }
   ],
   "source": [
    "prod[0]"
   ]
  },
  {
   "cell_type": "code",
   "execution_count": 590,
   "metadata": {},
   "outputs": [
    {
     "name": "stdout",
     "output_type": "stream",
     "text": [
      "<div class=\"number\">50</div>\n"
     ]
    }
   ],
   "source": [
    "quater = site03.find(id='quaternaryconsumers')\n",
    "print(quater.find_previous())"
   ]
  },
  {
   "cell_type": "code",
   "execution_count": 591,
   "metadata": {},
   "outputs": [
    {
     "name": "stdout",
     "output_type": "stream",
     "text": [
      "[<div class=\"number\">50</div>, <div class=\"name\">tiger</div>, <li class=\"tertiaryconsumerlist\">\n",
      "<div class=\"name\">tiger</div>\n",
      "<div class=\"number\">50</div>\n",
      "</li>, <div class=\"number\">80</div>, <div class=\"name\">lion</div>, <li class=\"tertiaryconsumerlist\">\n",
      "<div class=\"name\">lion</div>\n",
      "<div class=\"number\">80</div>\n",
      "</li>, <ul id=\"tertiaryconsumers\">\n",
      "<li class=\"tertiaryconsumerlist\">\n",
      "<div class=\"name\">lion</div>\n",
      "<div class=\"number\">80</div>\n",
      "</li>\n",
      "<li class=\"tertiaryconsumerlist\">\n",
      "<div class=\"name\">tiger</div>\n",
      "<div class=\"number\">50</div>\n",
      "</li>\n",
      "</ul>, <div class=\"number\">100</div>, <div class=\"name\">bear</div>, <li class=\"secondaryconsumerlist\">\n",
      "<div class=\"name\">bear</div>\n",
      "\t\t\t\t[ 28 ]\n",
      "\t\t\t\twww.it-ebooks.infoChapter 3\n",
      "\t\t\t\t<div class=\"number\">100</div>\n",
      "</li>, <div class=\"number\">100</div>, <div class=\"name\">fox</div>, <li class=\"secondaryconsumerlist\">\n",
      "<div class=\"name\">fox</div>\n",
      "<div class=\"number\">100</div>\n",
      "</li>, <ul id=\"secondaryconsumers\">\n",
      "<li class=\"secondaryconsumerlist\">\n",
      "<div class=\"name\">fox</div>\n",
      "<div class=\"number\">100</div>\n",
      "</li>\n",
      "<li class=\"secondaryconsumerlist\">\n",
      "<div class=\"name\">bear</div>\n",
      "\t\t\t\t[ 28 ]\n",
      "\t\t\t\twww.it-ebooks.infoChapter 3\n",
      "\t\t\t\t<div class=\"number\">100</div>\n",
      "</li>\n",
      "</ul>, <div class=\"number\">2000</div>, <div class=\"name\">rabbit</div>, <li class=\"primaryconsumerlist\">\n",
      "<div class=\"name\">rabbit</div>\n",
      "<div class=\"number\">2000</div>\n",
      "</li>, <div class=\"number\">1000</div>, <div class=\"name\">deer</div>, <li class=\"primaryconsumerlist\">\n",
      "<div class=\"name\">deer</div>\n",
      "<div class=\"number\">1000</div>\n",
      "</li>, <ul id=\"primaryconsumers\">\n",
      "<li class=\"primaryconsumerlist\">\n",
      "<div class=\"name\">deer</div>\n",
      "<div class=\"number\">1000</div>\n",
      "</li>\n",
      "<li class=\"primaryconsumerlist\">\n",
      "<div class=\"name\">rabbit</div>\n",
      "<div class=\"number\">2000</div>\n",
      "</li>\n",
      "</ul>, <div class=\"number\">100000</div>, <div class=\"name\">algae</div>, <li class=\"producerlist\">\n",
      "<div class=\"name\">algae</div>\n",
      "<div class=\"number\">100000</div>\n",
      "</li>, <div class=\"number\">100000</div>, <div class=\"name\">plants</div>, <li class=\"producerlist\">\n",
      "<div class=\"name\">plants</div>\n",
      "<div class=\"number\">100000</div>\n",
      "</li>, <ul id=\"producers\">\n",
      "<li class=\"producerlist\">\n",
      "<div class=\"name\">plants</div>\n",
      "<div class=\"number\">100000</div>\n",
      "</li>\n",
      "<li class=\"producerlist\">\n",
      "<div class=\"name\">algae</div>\n",
      "<div class=\"number\">100000</div>\n",
      "</li>\n",
      "</ul>, <div class=\"ecopyramid\">\n",
      "<ul id=\"producers\">\n",
      "<li class=\"producerlist\">\n",
      "<div class=\"name\">plants</div>\n",
      "<div class=\"number\">100000</div>\n",
      "</li>\n",
      "<li class=\"producerlist\">\n",
      "<div class=\"name\">algae</div>\n",
      "<div class=\"number\">100000</div>\n",
      "</li>\n",
      "</ul>\n",
      "<ul id=\"primaryconsumers\">\n",
      "<li class=\"primaryconsumerlist\">\n",
      "<div class=\"name\">deer</div>\n",
      "<div class=\"number\">1000</div>\n",
      "</li>\n",
      "<li class=\"primaryconsumerlist\">\n",
      "<div class=\"name\">rabbit</div>\n",
      "<div class=\"number\">2000</div>\n",
      "</li>\n",
      "</ul>\n",
      "<ul id=\"secondaryconsumers\">\n",
      "<li class=\"secondaryconsumerlist\">\n",
      "<div class=\"name\">fox</div>\n",
      "<div class=\"number\">100</div>\n",
      "</li>\n",
      "<li class=\"secondaryconsumerlist\">\n",
      "<div class=\"name\">bear</div>\n",
      "\t\t\t\t[ 28 ]\n",
      "\t\t\t\twww.it-ebooks.infoChapter 3\n",
      "\t\t\t\t<div class=\"number\">100</div>\n",
      "</li>\n",
      "</ul>\n",
      "<ul id=\"tertiaryconsumers\">\n",
      "<li class=\"tertiaryconsumerlist\">\n",
      "<div class=\"name\">lion</div>\n",
      "<div class=\"number\">80</div>\n",
      "</li>\n",
      "<li class=\"tertiaryconsumerlist\">\n",
      "<div class=\"name\">tiger</div>\n",
      "<div class=\"number\">50</div>\n",
      "</li>\n",
      "</ul>\n",
      "<ul id=\"quaternaryconsumers\">\n",
      "<li class=\"quaternaryconsumerlist\">\n",
      "<div class=\"name animal\">tutle</div>\n",
      "<div class=\"number\">1000</div>\n",
      "</li>\n",
      "<li class=\"quaternaryconsumerlist\">\n",
      "<div class=\"name animal\">giraffe</div>\n",
      "<div class=\"number\">100</div>\n",
      "</li>\n",
      "</ul>\n",
      "</div>, <body>\n",
      "<div class=\"ecopyramid\">\n",
      "<ul id=\"producers\">\n",
      "<li class=\"producerlist\">\n",
      "<div class=\"name\">plants</div>\n",
      "<div class=\"number\">100000</div>\n",
      "</li>\n",
      "<li class=\"producerlist\">\n",
      "<div class=\"name\">algae</div>\n",
      "<div class=\"number\">100000</div>\n",
      "</li>\n",
      "</ul>\n",
      "<ul id=\"primaryconsumers\">\n",
      "<li class=\"primaryconsumerlist\">\n",
      "<div class=\"name\">deer</div>\n",
      "<div class=\"number\">1000</div>\n",
      "</li>\n",
      "<li class=\"primaryconsumerlist\">\n",
      "<div class=\"name\">rabbit</div>\n",
      "<div class=\"number\">2000</div>\n",
      "</li>\n",
      "</ul>\n",
      "<ul id=\"secondaryconsumers\">\n",
      "<li class=\"secondaryconsumerlist\">\n",
      "<div class=\"name\">fox</div>\n",
      "<div class=\"number\">100</div>\n",
      "</li>\n",
      "<li class=\"secondaryconsumerlist\">\n",
      "<div class=\"name\">bear</div>\n",
      "\t\t\t\t[ 28 ]\n",
      "\t\t\t\twww.it-ebooks.infoChapter 3\n",
      "\t\t\t\t<div class=\"number\">100</div>\n",
      "</li>\n",
      "</ul>\n",
      "<ul id=\"tertiaryconsumers\">\n",
      "<li class=\"tertiaryconsumerlist\">\n",
      "<div class=\"name\">lion</div>\n",
      "<div class=\"number\">80</div>\n",
      "</li>\n",
      "<li class=\"tertiaryconsumerlist\">\n",
      "<div class=\"name\">tiger</div>\n",
      "<div class=\"number\">50</div>\n",
      "</li>\n",
      "</ul>\n",
      "<ul id=\"quaternaryconsumers\">\n",
      "<li class=\"quaternaryconsumerlist\">\n",
      "<div class=\"name animal\">tutle</div>\n",
      "<div class=\"number\">1000</div>\n",
      "</li>\n",
      "<li class=\"quaternaryconsumerlist\">\n",
      "<div class=\"name animal\">giraffe</div>\n",
      "<div class=\"number\">100</div>\n",
      "</li>\n",
      "</ul>\n",
      "</div>\n",
      "</body>, <html>\n",
      "<body>\n",
      "<div class=\"ecopyramid\">\n",
      "<ul id=\"producers\">\n",
      "<li class=\"producerlist\">\n",
      "<div class=\"name\">plants</div>\n",
      "<div class=\"number\">100000</div>\n",
      "</li>\n",
      "<li class=\"producerlist\">\n",
      "<div class=\"name\">algae</div>\n",
      "<div class=\"number\">100000</div>\n",
      "</li>\n",
      "</ul>\n",
      "<ul id=\"primaryconsumers\">\n",
      "<li class=\"primaryconsumerlist\">\n",
      "<div class=\"name\">deer</div>\n",
      "<div class=\"number\">1000</div>\n",
      "</li>\n",
      "<li class=\"primaryconsumerlist\">\n",
      "<div class=\"name\">rabbit</div>\n",
      "<div class=\"number\">2000</div>\n",
      "</li>\n",
      "</ul>\n",
      "<ul id=\"secondaryconsumers\">\n",
      "<li class=\"secondaryconsumerlist\">\n",
      "<div class=\"name\">fox</div>\n",
      "<div class=\"number\">100</div>\n",
      "</li>\n",
      "<li class=\"secondaryconsumerlist\">\n",
      "<div class=\"name\">bear</div>\n",
      "\t\t\t\t[ 28 ]\n",
      "\t\t\t\twww.it-ebooks.infoChapter 3\n",
      "\t\t\t\t<div class=\"number\">100</div>\n",
      "</li>\n",
      "</ul>\n",
      "<ul id=\"tertiaryconsumers\">\n",
      "<li class=\"tertiaryconsumerlist\">\n",
      "<div class=\"name\">lion</div>\n",
      "<div class=\"number\">80</div>\n",
      "</li>\n",
      "<li class=\"tertiaryconsumerlist\">\n",
      "<div class=\"name\">tiger</div>\n",
      "<div class=\"number\">50</div>\n",
      "</li>\n",
      "</ul>\n",
      "<ul id=\"quaternaryconsumers\">\n",
      "<li class=\"quaternaryconsumerlist\">\n",
      "<div class=\"name animal\">tutle</div>\n",
      "<div class=\"number\">1000</div>\n",
      "</li>\n",
      "<li class=\"quaternaryconsumerlist\">\n",
      "<div class=\"name animal\">giraffe</div>\n",
      "<div class=\"number\">100</div>\n",
      "</li>\n",
      "</ul>\n",
      "</div>\n",
      "</body>\n",
      "</html>]\n"
     ]
    }
   ],
   "source": [
    "quater = site03.find(id='quaternaryconsumers')\n",
    "print(quater.find_all_previous())"
   ]
  }
 ],
 "metadata": {
  "kernelspec": {
   "display_name": "Python 3",
   "language": "python",
   "name": "python3"
  },
  "language_info": {
   "codemirror_mode": {
    "name": "ipython",
    "version": 3
   },
   "file_extension": ".py",
   "mimetype": "text/x-python",
   "name": "python",
   "nbconvert_exporter": "python",
   "pygments_lexer": "ipython3",
   "version": "3.7.0"
  }
 },
 "nbformat": 4,
 "nbformat_minor": 2
}
